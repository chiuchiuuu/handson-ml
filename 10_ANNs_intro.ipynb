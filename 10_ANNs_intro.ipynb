{
 "cells": [
  {
   "cell_type": "markdown",
   "metadata": {
    "colab_type": "text",
    "id": "63ge9mcY8U6_"
   },
   "source": [
    "# 人工神经网络入门\n",
    "---"
   ]
  },
  {
   "cell_type": "markdown",
   "metadata": {
    "colab_type": "text",
    "id": "Cyf8m1rR8U7A"
   },
   "source": [
    "# 0. Setup"
   ]
  },
  {
   "cell_type": "code",
   "execution_count": null,
   "metadata": {
    "colab": {
     "autoexec": {
      "startup": false,
      "wait_interval": 0
     }
    },
    "colab_type": "code",
    "id": "2nGg56w18U7C"
   },
   "outputs": [],
   "source": [
    "# Common imports\n",
    "import numpy as np\n",
    "import os\n",
    "import urllib\n",
    "\n",
    "# to make this notebook's output stable across runs\n",
    "\n",
    "\n",
    "def reset_graph(seed=42):\n",
    "    tf.reset_default_graph()\n",
    "    tf.set_random_seed(seed)\n",
    "    np.random.seed(seed)\n",
    "\n",
    "\n",
    "import matplotlib.pyplot as plt\n",
    "%matplotlib inline"
   ]
  },
  {
   "cell_type": "markdown",
   "metadata": {
    "colab_type": "text",
    "id": "igKsoYGr8U7F"
   },
   "source": [
    "# 1. 从BNN到ANN"
   ]
  },
  {
   "cell_type": "markdown",
   "metadata": {
    "colab_type": "text",
    "id": "l65YkxzF8U7H"
   },
   "source": [
    "BNN：Biological Neural Network，生物神经网络\n",
    "\n",
    "ANN：Artificial Neural Network，人工神经网络\n",
    "\n",
    "- ANN的发展及其优势\n",
    "- ANN的灵感来源于生物神经元的生理结构"
   ]
  },
  {
   "cell_type": "markdown",
   "metadata": {
    "colab_type": "text",
    "id": "VIC1LK_F8U7I"
   },
   "source": [
    "## 1.1 神经元的逻辑运算"
   ]
  },
  {
   "cell_type": "markdown",
   "metadata": {
    "colab_type": "text",
    "id": "_6_vHKPf8U7J"
   },
   "source": [
    "人工神经元（Artifical neuron）：\n",
    "- 输入：一或多个二进制数\n",
    "- 输出：一个二进制数\n",
    "\n",
    "可实现与、或等逻辑运算（图中假设两个信号才足以激活一个神经元）\n",
    "![logical_computations](./data/ann/logical_computations.png)"
   ]
  },
  {
   "cell_type": "markdown",
   "metadata": {
    "colab_type": "text",
    "id": "qvWxkueb8U7L"
   },
   "source": [
    "## 1.2 感知机（Perceptron）"
   ]
  },
  {
   "cell_type": "markdown",
   "metadata": {
    "colab_type": "text",
    "id": "cyH3JaZV8U7L"
   },
   "source": [
    "感知机是最简单ANN结构之一，由Frank Rosenblat在1957年发明。\n",
    "\n",
    "其核心是一个叫做 linear threshold unit(LTU) 的神经元，\n",
    "- 输入：数字，每个输入带有权重：$(x_i, w_i)$\n",
    "- 计算：加权求和：$z=\\mathbf w^T \\cdot \\mathbf x$\n",
    "- 输出：step function的值：$h_{\\mathbf w}(\\mathbf x) = \\text{step}(z)$\n",
    "\n",
    "常用的step function\n",
    "\n",
    "$\n",
    "\\begin{split}\n",
    "\\operatorname{heaviside}(z) =\n",
    "\\begin{cases}\n",
    "0 & \\text{if }z < 0\\\\\n",
    "1 & \\text{if }z \\ge 0\n",
    "\\end{cases} & \\quad\\quad\n",
    "\\operatorname{sgn}(z) =\n",
    "\\begin{cases}\n",
    "-1 & \\text{if }z < 0\\\\\n",
    "0 & \\text{if }z = 0\\\\\n",
    "+1 & \\text{if }z > 0\n",
    "\\end{cases}\n",
    "\\end{split}\n",
    "$\n",
    "\n",
    "单个LTU可以作为一个二元分类器使用，训练LTU相当于找到 $w_i$ 的最优值\n",
    "\n",
    "![LTU](./data/ann/LTU.png)"
   ]
  },
  {
   "cell_type": "markdown",
   "metadata": {
    "colab_type": "text",
    "id": "KI5EPWau8U7M"
   },
   "source": [
    "### 感知机的结构"
   ]
  },
  {
   "cell_type": "markdown",
   "metadata": {
    "colab_type": "text",
    "id": "z_QSmtur8U7N"
   },
   "source": [
    "- 单层多个LTU\n",
    "- input neurons：输入等于输出\n",
    "- bias neurons：输出1\n",
    "\n",
    "![perception](./data/ann/perceptron.png)\n",
    "\n",
    "相当一个多输出分类器"
   ]
  },
  {
   "cell_type": "markdown",
   "metadata": {
    "colab_type": "text",
    "id": "4GCDTWu-8U7O"
   },
   "source": [
    "### 训练"
   ]
  },
  {
   "cell_type": "markdown",
   "metadata": {
    "colab_type": "text",
    "id": "fpq-OvYg8U7P"
   },
   "source": [
    "Donald Hebb规则：当两个神经元的输出相同时，他们的连接的权重就增大。\n",
    "\n",
    "感知机的训练算法受这个规则的启发：感知机每次接受一个训练样例，对每个样例预测一次结果。然后对每个输出错误预测的神经元，增强那些可能使其得出正确预测的神经元的权重。\n",
    "\n",
    "> For every output neuron that produced a wrong prediction, it reinforces the connection weights from the inputs that would have contributed to the correct prediction.\n",
    "\n",
    "$\n",
    "{w_{i,j}}^{(\\text{next step})} = w_{i,j} + \\eta (y_j - \\hat{y}_j) x_i\n",
    "$\n",
    "\n",
    "- $w_{i,j}$：第 $i$ 个输入和第 $j$ 个输出的连接权重\n",
    "- $\\hat{y}_j$：$y_j$ 的预测值\n",
    "- $\\eta$：学习率\n",
    "\n",
    "训练集若是线性可分的，Rosenblatt证明了感知机算法一定会收敛，称为感知机收敛定理（Perceptron convergence theorem）。"
   ]
  },
  {
   "cell_type": "code",
   "execution_count": null,
   "metadata": {
    "colab": {
     "autoexec": {
      "startup": false,
      "wait_interval": 0
     }
    },
    "colab_type": "code",
    "id": "R-lG4r8S8U7Q",
    "outputId": "ddb7cd9c-38ec-4389-99b6-1fe3ce406947"
   },
   "outputs": [
    {
     "data": {
      "text/plain": [
       "array([1])"
      ]
     },
     "execution_count": 17,
     "metadata": {
      "tags": []
     },
     "output_type": "execute_result"
    }
   ],
   "source": [
    "import numpy as np\n",
    "from sklearn.datasets import load_iris\n",
    "from sklearn.linear_model import Perceptron\n",
    "\n",
    "iris = load_iris()\n",
    "X = iris.data[:, (2, 3)]\n",
    "y = (iris.target == 0).astype(np.int)\n",
    "\n",
    "per_clf = Perceptron(max_iter=100, random_state=42)\n",
    "per_clf.fit(X, y)\n",
    "\n",
    "y_pred = per_clf.predict([[2, 0.5]])\n",
    "y_pred"
   ]
  },
  {
   "cell_type": "code",
   "execution_count": null,
   "metadata": {
    "colab": {
     "autoexec": {
      "startup": false,
      "wait_interval": 0
     }
    },
    "colab_type": "code",
    "id": "SRLbU-kF8U7X",
    "outputId": "db8cf8a5-fc4d-4d41-8913-8c43690ec87b"
   },
   "outputs": [
    {
     "data": {
      "image/png": "[encoded data removed]",
      "text/plain": [
       "<matplotlib.figure.Figure at 0x1fa8c1dbd30>"
      ]
     },
     "metadata": {
      "tags": []
     },
     "output_type": "display_data"
    }
   ],
   "source": [
    "a = -per_clf.coef_[0][0] / per_clf.coef_[0][1]\n",
    "b = -per_clf.intercept_ / per_clf.coef_[0][1]\n",
    "\n",
    "axes = [0, 5, 0, 2]\n",
    "\n",
    "x0, x1 = np.meshgrid(\n",
    "        np.linspace(axes[0], axes[1], 500).reshape(-1, 1),\n",
    "        np.linspace(axes[2], axes[3], 200).reshape(-1, 1),\n",
    ")\n",
    "X_new = np.c_[x0.ravel(), x1.ravel()]\n",
    "y_predict = per_clf.predict(X_new)\n",
    "zz = y_predict.reshape(x0.shape)\n",
    "\n",
    "plt.figure(figsize=(10, 4))\n",
    "plt.plot(X[y==0, 0], X[y==0, 1], \"bs\", label=\"Not Iris-Setosa\")\n",
    "plt.plot(X[y==1, 0], X[y==1, 1], \"yo\", label=\"Iris-Setosa\")\n",
    "\n",
    "plt.plot([axes[0], axes[1]], [a * axes[0] + b, a * axes[1] + b], \"k-\", linewidth=3)\n",
    "from matplotlib.colors import ListedColormap\n",
    "custom_cmap = ListedColormap(['#9898ff', '#fafab0'])\n",
    "\n",
    "plt.contourf(x0, x1, zz, cmap=custom_cmap, linewidth=5)\n",
    "plt.xlabel(\"Petal length\", fontsize=14)\n",
    "plt.ylabel(\"Petal width\", fontsize=14)\n",
    "plt.legend(loc=\"lower right\", fontsize=14)\n",
    "plt.axis(axes)\n",
    "\n",
    "plt.show()"
   ]
  },
  {
   "cell_type": "markdown",
   "metadata": {
    "colab_type": "text",
    "id": "MjoqegwR8U7b"
   },
   "source": [
    "事实上，`Perceptron()` 相当于\n",
    "```python\n",
    "SGDClassifier(loss=\"perceptron\", learning_rate=\"constant\", eta0=1, penalty=None)\n",
    "```\n",
    "\n",
    "感知机的缺点：\n",
    "- 判定边界（decision boundary）是线性的，所以感知机不能处理非线性的问题（著名的例子：感知机不能处理逻辑异或）\n",
    "- 不能对每个所属类算出一个概率（这使得我们更倾向于使用Logisitic回归）\n",
    "\n",
    "解决办法：引入多层感知机（Multi-Layer Perceptron, MLP)"
   ]
  },
  {
   "cell_type": "markdown",
   "metadata": {
    "colab_type": "text",
    "id": "t8ESMw_W8U7d"
   },
   "source": [
    "## 1.3 多层感知机与反向传播（Back propagation）"
   ]
  },
  {
   "cell_type": "markdown",
   "metadata": {
    "colab_type": "text",
    "id": "3CezDXTq8U7e"
   },
   "source": [
    "MLP的结构：\n",
    "- 输入层（input layer）\n",
    "- 隐藏层（hidden layer）\n",
    "- 输出层（output layer）\n",
    "\n",
    "每层都可由多单个或多个LTU组成。除了输出层外每层都有一个bias neuron。当一个ANN有 $\\geq 2$ 个隐藏层的时候就称为深度神经网络（DNN）\n",
    "\n",
    "![MLP](./data/ann/MLP.png)"
   ]
  },
  {
   "cell_type": "markdown",
   "metadata": {
    "colab_type": "text",
    "id": "nJV1E-2Y8U7f"
   },
   "source": [
    "1986年，D.E.Rumelhart et al.发表了一篇文章，介绍了反向传播算法，可以用来训练MLP，其基本思想是：\n",
    "\n",
    "> for each training instance the backpropagation algorithm first makes a prediction (forward pass), measures the error, then goes through each layer in reverse to measure the error contribution from each connection (reverse pass), and finally slightly tweaks the connection weights to reduce the error (Gradient\n",
    "Descent step).\n",
    "\n",
    "- 前向传播：一层层的计算神经元直到最后的输出层\n",
    "- 反向传播：测量误差，测量每个权重对误差的贡献程度\n",
    "- 梯度下降：更新权值，减小误差"
   ]
  },
  {
   "cell_type": "markdown",
   "metadata": {
    "colab_type": "text",
    "id": "Up9vXgTH8U7g"
   },
   "source": [
    "### 激活函数"
   ]
  },
  {
   "cell_type": "markdown",
   "metadata": {
    "colab_type": "text",
    "id": "xGwL-b4M8U7i"
   },
   "source": [
    "为了使梯度下降算法可行，不能使用原先的step function，必须改变激活函数：\n",
    "\n",
    "- **Sigmoid函数**（最常用）：$\\sigma(z) = \\dfrac{1}{1 + \\exp(-z)}$\n",
    "- 双曲正切函数：$\\tanh(z) = 2\\sigma(2z) - 1$\n",
    "- ReLU函数：$\\text{ReLU}(z) = \\max (0,z)$"
   ]
  },
  {
   "cell_type": "code",
   "execution_count": null,
   "metadata": {
    "colab": {
     "autoexec": {
      "startup": false,
      "wait_interval": 0
     }
    },
    "colab_type": "code",
    "id": "uxms8QCk8U7j"
   },
   "outputs": [],
   "source": [
    "def sigmoid(z):\n",
    "    return 1 / (1 + np.exp(-z))\n",
    "\n",
    "def relu(z):\n",
    "    return np.maximum(0, z)\n",
    "\n",
    "def derivative(f, z, eps=0.000001):\n",
    "    return (f(z + eps) - f(z - eps)) / (2 * eps)"
   ]
  },
  {
   "cell_type": "code",
   "execution_count": null,
   "metadata": {
    "colab": {
     "autoexec": {
      "startup": false,
      "wait_interval": 0
     }
    },
    "colab_type": "code",
    "id": "foMCRDZA8U7n",
    "outputId": "9aa4ac42-4050-40de-fe27-0b36c45e3a99"
   },
   "outputs": [
    {
     "data": {
      "image/png": "[encoded data removed]",
      "text/plain": [
       "<matplotlib.figure.Figure at 0x1fa8c317978>"
      ]
     },
     "metadata": {
      "tags": []
     },
     "output_type": "display_data"
    }
   ],
   "source": [
    "z = np.linspace(-5, 5, 200)\n",
    "\n",
    "plt.figure(figsize=(11,4))\n",
    "\n",
    "plt.subplot(121)\n",
    "plt.plot(z, np.sign(z), \"r-\", linewidth=2, label=\"Step\")\n",
    "plt.plot(z, sigmoid(z), \"g--\", linewidth=2, label=\"Sigmoid\")\n",
    "plt.plot(z, np.tanh(z), \"b-\", linewidth=2, label=\"Tanh\")\n",
    "plt.plot(z, relu(z), \"m-.\", linewidth=2, label=\"ReLU\")\n",
    "plt.grid(True)\n",
    "plt.legend(loc=\"center right\", fontsize=14)\n",
    "plt.title(\"Activation functions\", fontsize=14)\n",
    "plt.axis([-5, 5, -1.2, 1.2])\n",
    "\n",
    "plt.subplot(122)\n",
    "plt.plot(z, derivative(np.sign, z), \"r-\", linewidth=2, label=\"Step\")\n",
    "plt.plot(0, 0, \"ro\", markersize=5)\n",
    "plt.plot(0, 0, \"rx\", markersize=10)\n",
    "plt.plot(z, derivative(sigmoid, z), \"g--\", linewidth=2, label=\"Sigmoid\")\n",
    "plt.plot(z, derivative(np.tanh, z), \"b-\", linewidth=2, label=\"Tanh\")\n",
    "plt.plot(z, derivative(relu, z), \"m-.\", linewidth=2, label=\"ReLU\")\n",
    "plt.grid(True)\n",
    "#plt.legend(loc=\"center right\", fontsize=14)\n",
    "plt.title(\"Derivatives\", fontsize=14)\n",
    "plt.axis([-5, 5, -0.2, 1.2])\n",
    "\n",
    "plt.show()"
   ]
  },
  {
   "cell_type": "markdown",
   "metadata": {
    "colab_type": "text",
    "id": "SwOn74My8U7s"
   },
   "source": [
    "MLP通常用来做分类问题，每个输出对应着一个类别。这时输出层需要做一些改变，原来每个单独的激活函数替换成一个整体的Softmax函数，这样每个输出就是对应于每个类别的概率。\n",
    "\n",
    "![MLP_classification](./data/ann/MLP_classification.png)"
   ]
  },
  {
   "cell_type": "markdown",
   "metadata": {
    "colab_type": "text",
    "id": "Z30Mb1Bs8U7s"
   },
   "source": [
    "额外的参考资料：\n",
    "\n",
    "- [A Step by Step Backpropagation Example](https://mattmazur.com/2015/03/17/a-step-by-step-backpropagation-example/)"
   ]
  },
  {
   "cell_type": "markdown",
   "metadata": {
    "colab_type": "text",
    "id": "de_qd5yY8U7u"
   },
   "source": [
    "# 2. 利用TensorFlow的高级API训练MLP"
   ]
  },
  {
   "cell_type": "code",
   "execution_count": null,
   "metadata": {
    "colab": {
     "autoexec": {
      "startup": false,
      "wait_interval": 0
     }
    },
    "colab_type": "code",
    "id": "n_6EN8FN8U7u"
   },
   "outputs": [],
   "source": [
    "import tensorflow as tf"
   ]
  },
  {
   "cell_type": "code",
   "execution_count": null,
   "metadata": {
    "colab": {
     "autoexec": {
      "startup": false,
      "wait_interval": 0
     }
    },
    "colab_type": "code",
    "id": "2kfiy0918U70"
   },
   "outputs": [],
   "source": [
    "(X_train, y_train), (X_test, y_test) = tf.keras.datasets.mnist.load_data()\n",
    "X_train = X_train.astype(np.float32).reshape(-1, 28*28) / 255.0\n",
    "X_test = X_test.astype(np.float32).reshape(-1, 28*28) / 255.0\n",
    "y_train = y_train.astype(np.int32)\n",
    "y_test = y_test.astype(np.int32)\n",
    "X_valid, X_train = X_train[:5000], X_train[5000:]\n",
    "y_valid, y_train = y_train[:5000], y_train[5000:]"
   ]
  },
  {
   "cell_type": "code",
   "execution_count": null,
   "metadata": {
    "colab": {
     "autoexec": {
      "startup": false,
      "wait_interval": 0
     }
    },
    "colab_type": "code",
    "id": "viUGzQ2H8U74",
    "outputId": "45c72ab8-3644-43a4-89b2-9f901f062959"
   },
   "outputs": [
    {
     "name": "stdout",
     "output_type": "stream",
     "text": [
      "INFO:tensorflow:Using default config.\n",
      "WARNING:tensorflow:Using temporary folder as model directory: C:\\Users\\q3026\\AppData\\Local\\Temp\\tmpojj97n81\n",
      "INFO:tensorflow:Using config: {'_model_dir': 'C:\\\\Users\\\\q3026\\\\AppData\\\\Local\\\\Temp\\\\tmpojj97n81', '_tf_random_seed': None, '_save_summary_steps': 100, '_save_checkpoints_steps': None, '_save_checkpoints_secs': 600, '_session_config': None, '_keep_checkpoint_max': 5, '_keep_checkpoint_every_n_hours': 10000, '_log_step_count_steps': 100, '_service': None, '_cluster_spec': <tensorflow.python.training.server_lib.ClusterSpec object at 0x000001FA8C1DB4A8>, '_task_type': 'worker', '_task_id': 0, '_global_id_in_cluster': 0, '_master': '', '_evaluation_master': '', '_is_chief': True, '_num_ps_replicas': 0, '_num_worker_replicas': 1}\n",
      "INFO:tensorflow:Calling model_fn.\n",
      "INFO:tensorflow:Done calling model_fn.\n",
      "INFO:tensorflow:Create CheckpointSaverHook.\n",
      "INFO:tensorflow:Graph was finalized.\n",
      "INFO:tensorflow:Running local_init_op.\n",
      "INFO:tensorflow:Done running local_init_op.\n",
      "INFO:tensorflow:Saving checkpoints for 1 into C:\\Users\\q3026\\AppData\\Local\\Temp\\tmpojj97n81\\model.ckpt.\n",
      "INFO:tensorflow:loss = 116.268, step = 1\n",
      "INFO:tensorflow:global_step/sec: 174.683\n",
      "INFO:tensorflow:loss = 10.2117, step = 101 (0.576 sec)\n",
      "INFO:tensorflow:global_step/sec: 257.095\n",
      "INFO:tensorflow:loss = 8.06475, step = 201 (0.388 sec)\n",
      "INFO:tensorflow:global_step/sec: 265.959\n",
      "INFO:tensorflow:loss = 12.2392, step = 301 (0.379 sec)\n",
      "INFO:tensorflow:global_step/sec: 240.449\n",
      "INFO:tensorflow:loss = 8.85905, step = 401 (0.413 sec)\n",
      "INFO:tensorflow:global_step/sec: 259.762\n",
      "INFO:tensorflow:loss = 18.7476, step = 501 (0.385 sec)\n",
      "INFO:tensorflow:global_step/sec: 277.749\n",
      "INFO:tensorflow:loss = 7.10104, step = 601 (0.361 sec)\n",
      "INFO:tensorflow:global_step/sec: 277.748\n",
      "INFO:tensorflow:loss = 8.01396, step = 701 (0.359 sec)\n",
      "INFO:tensorflow:global_step/sec: 257.089\n",
      "INFO:tensorflow:loss = 5.2099, step = 801 (0.389 sec)\n",
      "INFO:tensorflow:global_step/sec: 277.757\n",
      "INFO:tensorflow:loss = 3.83046, step = 901 (0.360 sec)\n",
      "INFO:tensorflow:global_step/sec: 272.466\n",
      "INFO:tensorflow:loss = 5.24105, step = 1001 (0.367 sec)\n",
      "INFO:tensorflow:global_step/sec: 257.095\n",
      "INFO:tensorflow:loss = 4.70707, step = 1101 (0.388 sec)\n",
      "INFO:tensorflow:global_step/sec: 256.439\n",
      "INFO:tensorflow:loss = 2.82677, step = 1201 (0.392 sec)\n",
      "INFO:tensorflow:global_step/sec: 248.186\n",
      "INFO:tensorflow:loss = 10.6341, step = 1301 (0.402 sec)\n",
      "INFO:tensorflow:global_step/sec: 220.368\n",
      "INFO:tensorflow:loss = 9.54314, step = 1401 (0.455 sec)\n",
      "INFO:tensorflow:global_step/sec: 211.981\n",
      "INFO:tensorflow:loss = 0.637649, step = 1501 (0.472 sec)\n",
      "INFO:tensorflow:global_step/sec: 262.479\n",
      "INFO:tensorflow:loss = 10.4167, step = 1601 (0.381 sec)\n",
      "INFO:tensorflow:global_step/sec: 253.2\n",
      "INFO:tensorflow:loss = 1.19296, step = 1701 (0.394 sec)\n",
      "INFO:tensorflow:global_step/sec: 226.849\n",
      "INFO:tensorflow:loss = 5.29356, step = 1801 (0.441 sec)\n",
      "INFO:tensorflow:global_step/sec: 207.164\n",
      "INFO:tensorflow:loss = 5.07605, step = 1901 (0.484 sec)\n",
      "INFO:tensorflow:global_step/sec: 245.153\n",
      "INFO:tensorflow:loss = 4.72109, step = 2001 (0.408 sec)\n",
      "INFO:tensorflow:global_step/sec: 243.931\n",
      "INFO:tensorflow:loss = 3.79027, step = 2101 (0.410 sec)\n",
      "INFO:tensorflow:global_step/sec: 226.85\n",
      "INFO:tensorflow:loss = 1.27392, step = 2201 (0.441 sec)\n",
      "INFO:tensorflow:global_step/sec: 257.095\n",
      "INFO:tensorflow:loss = 1.61759, step = 2301 (0.388 sec)\n",
      "INFO:tensorflow:global_step/sec: 257.755\n",
      "INFO:tensorflow:loss = 1.79102, step = 2401 (0.389 sec)\n",
      "INFO:tensorflow:global_step/sec: 239.874\n",
      "INFO:tensorflow:loss = 2.8069, step = 2501 (0.417 sec)\n",
      "INFO:tensorflow:global_step/sec: 278.521\n",
      "INFO:tensorflow:loss = 3.24721, step = 2601 (0.359 sec)\n",
      "INFO:tensorflow:global_step/sec: 275.459\n",
      "INFO:tensorflow:loss = 2.04512, step = 2701 (0.363 sec)\n",
      "INFO:tensorflow:global_step/sec: 257.504\n",
      "INFO:tensorflow:loss = 3.19848, step = 2801 (0.387 sec)\n",
      "INFO:tensorflow:global_step/sec: 279.295\n",
      "INFO:tensorflow:loss = 1.17213, step = 2901 (0.358 sec)\n",
      "INFO:tensorflow:global_step/sec: 275.461\n",
      "INFO:tensorflow:loss = 0.763786, step = 3001 (0.363 sec)\n",
      "INFO:tensorflow:global_step/sec: 262.481\n",
      "INFO:tensorflow:loss = 9.98109, step = 3101 (0.381 sec)\n",
      "INFO:tensorflow:global_step/sec: 272.463\n",
      "INFO:tensorflow:loss = 1.13266, step = 3201 (0.367 sec)\n",
      "INFO:tensorflow:global_step/sec: 267.381\n",
      "INFO:tensorflow:loss = 9.64907, step = 3301 (0.374 sec)\n",
      "INFO:tensorflow:global_step/sec: 263.165\n",
      "INFO:tensorflow:loss = 1.66889, step = 3401 (0.381 sec)\n",
      "INFO:tensorflow:global_step/sec: 234.821\n",
      "INFO:tensorflow:loss = 0.399028, step = 3501 (0.425 sec)\n",
      "INFO:tensorflow:global_step/sec: 214.246\n",
      "INFO:tensorflow:loss = 3.96484, step = 3601 (0.467 sec)\n",
      "INFO:tensorflow:global_step/sec: 224.311\n",
      "INFO:tensorflow:loss = 3.04836, step = 3701 (0.446 sec)\n",
      "INFO:tensorflow:global_step/sec: 264.558\n",
      "INFO:tensorflow:loss = 0.883925, step = 3801 (0.378 sec)\n",
      "INFO:tensorflow:global_step/sec: 280.077\n",
      "INFO:tensorflow:loss = 0.494954, step = 3901 (0.358 sec)\n",
      "INFO:tensorflow:global_step/sec: 253.198\n",
      "INFO:tensorflow:loss = 1.87968, step = 4001 (0.394 sec)\n",
      "INFO:tensorflow:global_step/sec: 280.861\n",
      "INFO:tensorflow:loss = 0.750117, step = 4101 (0.356 sec)\n",
      "INFO:tensorflow:global_step/sec: 266.668\n",
      "INFO:tensorflow:loss = 2.59092, step = 4201 (0.374 sec)\n",
      "INFO:tensorflow:global_step/sec: 253.842\n",
      "INFO:tensorflow:loss = 0.906675, step = 4301 (0.395 sec)\n",
      "INFO:tensorflow:global_step/sec: 280.86\n",
      "INFO:tensorflow:loss = 0.389626, step = 4401 (0.356 sec)\n",
      "INFO:tensorflow:global_step/sec: 280.078\n",
      "INFO:tensorflow:loss = 1.95806, step = 4501 (0.357 sec)\n",
      "INFO:tensorflow:global_step/sec: 232.638\n",
      "INFO:tensorflow:loss = 0.210744, step = 4601 (0.431 sec)\n",
      "INFO:tensorflow:global_step/sec: 266.669\n",
      "INFO:tensorflow:loss = 1.70225, step = 4701 (0.374 sec)\n",
      "INFO:tensorflow:global_step/sec: 268.094\n",
      "INFO:tensorflow:loss = 0.818891, step = 4801 (0.373 sec)\n",
      "INFO:tensorflow:global_step/sec: 258.416\n",
      "INFO:tensorflow:loss = 0.477129, step = 4901 (0.387 sec)\n",
      "INFO:tensorflow:global_step/sec: 268.818\n",
      "INFO:tensorflow:loss = 3.54922, step = 5001 (0.372 sec)\n",
      "INFO:tensorflow:global_step/sec: 259.089\n",
      "INFO:tensorflow:loss = 3.99384, step = 5101 (0.386 sec)\n",
      "INFO:tensorflow:global_step/sec: 276.219\n",
      "INFO:tensorflow:loss = 0.173259, step = 5201 (0.362 sec)\n",
      "INFO:tensorflow:global_step/sec: 245.753\n",
      "INFO:tensorflow:loss = 0.659764, step = 5301 (0.408 sec)\n",
      "INFO:tensorflow:global_step/sec: 235.37\n",
      "INFO:tensorflow:loss = 9.92002, step = 5401 (0.425 sec)\n",
      "INFO:tensorflow:global_step/sec: 241.608\n",
      "INFO:tensorflow:loss = 1.43077, step = 5501 (0.414 sec)\n",
      "INFO:tensorflow:global_step/sec: 250.668\n",
      "INFO:tensorflow:loss = 0.409028, step = 5601 (0.398 sec)\n",
      "INFO:tensorflow:global_step/sec: 254.485\n",
      "INFO:tensorflow:loss = 0.677056, step = 5701 (0.394 sec)\n",
      "INFO:tensorflow:global_step/sec: 234.269\n",
      "INFO:tensorflow:loss = 0.237058, step = 5801 (0.426 sec)\n",
      "INFO:tensorflow:global_step/sec: 200.937\n",
      "INFO:tensorflow:loss = 0.433185, step = 5901 (0.499 sec)\n",
      "INFO:tensorflow:global_step/sec: 263.862\n",
      "INFO:tensorflow:loss = 0.25126, step = 6001 (0.378 sec)\n",
      "INFO:tensorflow:global_step/sec: 247.573\n",
      "INFO:tensorflow:loss = 0.228235, step = 6101 (0.404 sec)\n",
      "INFO:tensorflow:global_step/sec: 258.422\n",
      "INFO:tensorflow:loss = 0.942408, step = 6201 (0.388 sec)\n",
      "INFO:tensorflow:global_step/sec: 262.553\n",
      "INFO:tensorflow:loss = 1.48078, step = 6301 (0.379 sec)\n",
      "INFO:tensorflow:global_step/sec: 222.322\n",
      "INFO:tensorflow:loss = 3.33291, step = 6401 (0.451 sec)\n",
      "INFO:tensorflow:global_step/sec: 259.76\n",
      "INFO:tensorflow:loss = 0.167326, step = 6501 (0.385 sec)\n",
      "INFO:tensorflow:global_step/sec: 272.466\n",
      "INFO:tensorflow:loss = 1.38804, step = 6601 (0.368 sec)\n",
      "INFO:tensorflow:global_step/sec: 278.52\n",
      "INFO:tensorflow:loss = 0.264457, step = 6701 (0.358 sec)\n",
      "INFO:tensorflow:global_step/sec: 277.748\n",
      "INFO:tensorflow:loss = 0.328837, step = 6801 (0.360 sec)\n",
      "INFO:tensorflow:global_step/sec: 263.168\n",
      "INFO:tensorflow:loss = 0.413566, step = 6901 (0.380 sec)\n",
      "INFO:tensorflow:global_step/sec: 280.861\n",
      "INFO:tensorflow:loss = 0.54292, step = 7001 (0.357 sec)\n",
      "INFO:tensorflow:global_step/sec: 276.22\n",
      "INFO:tensorflow:loss = 3.14296, step = 7101 (0.361 sec)\n",
      "INFO:tensorflow:global_step/sec: 236.479\n",
      "INFO:tensorflow:loss = 1.21228, step = 7201 (0.423 sec)\n",
      "INFO:tensorflow:global_step/sec: 281.649\n",
      "INFO:tensorflow:loss = 0.202082, step = 7301 (0.355 sec)\n",
      "INFO:tensorflow:global_step/sec: 270.264\n",
      "INFO:tensorflow:loss = 5.82057, step = 7401 (0.370 sec)\n",
      "INFO:tensorflow:global_step/sec: 263.862\n",
      "INFO:tensorflow:loss = 0.642642, step = 7501 (0.380 sec)\n",
      "INFO:tensorflow:global_step/sec: 276.218\n",
      "INFO:tensorflow:loss = 0.562744, step = 7601 (0.362 sec)\n",
      "INFO:tensorflow:global_step/sec: 278.521\n",
      "INFO:tensorflow:loss = 0.746638, step = 7701 (0.358 sec)\n",
      "INFO:tensorflow:global_step/sec: 267.378\n",
      "INFO:tensorflow:loss = 0.11238, step = 7801 (0.374 sec)\n",
      "INFO:tensorflow:global_step/sec: 276.592\n",
      "INFO:tensorflow:loss = 0.287926, step = 7901 (0.362 sec)\n",
      "INFO:tensorflow:global_step/sec: 280.858\n",
      "INFO:tensorflow:loss = 0.280725, step = 8001 (0.357 sec)\n",
      "INFO:tensorflow:global_step/sec: 264.56\n",
      "INFO:tensorflow:loss = 1.29305, step = 8101 (0.378 sec)\n",
      "INFO:tensorflow:global_step/sec: 277.472\n",
      "INFO:tensorflow:loss = 1.16223, step = 8201 (0.359 sec)\n",
      "INFO:tensorflow:global_step/sec: 277.355\n",
      "INFO:tensorflow:loss = 0.113595, step = 8301 (0.361 sec)\n",
      "INFO:tensorflow:global_step/sec: 222.322\n",
      "INFO:tensorflow:loss = 2.15991, step = 8401 (0.450 sec)\n",
      "INFO:tensorflow:global_step/sec: 242.777\n",
      "INFO:tensorflow:loss = 1.10858, step = 8501 (0.413 sec)\n",
      "INFO:tensorflow:global_step/sec: 256.437\n",
      "INFO:tensorflow:loss = 0.349974, step = 8601 (0.389 sec)\n",
      "INFO:tensorflow:global_step/sec: 274.706\n",
      "INFO:tensorflow:loss = 0.547867, step = 8701 (0.365 sec)\n",
      "INFO:tensorflow:global_step/sec: 262.479\n",
      "INFO:tensorflow:loss = 0.39897, step = 8801 (0.379 sec)\n",
      "INFO:tensorflow:global_step/sec: 201.745\n",
      "INFO:tensorflow:loss = 0.313498, step = 8901 (0.497 sec)\n",
      "INFO:tensorflow:global_step/sec: 276.219\n",
      "INFO:tensorflow:loss = 0.15388, step = 9001 (0.362 sec)\n",
      "INFO:tensorflow:global_step/sec: 280.859\n",
      "INFO:tensorflow:loss = 0.400997, step = 9101 (0.356 sec)\n",
      "INFO:tensorflow:global_step/sec: 258.131\n",
      "INFO:tensorflow:loss = 0.51935, step = 9201 (0.387 sec)\n",
      "INFO:tensorflow:global_step/sec: 276.987\n",
      "INFO:tensorflow:loss = 0.194774, step = 9301 (0.360 sec)\n",
      "INFO:tensorflow:global_step/sec: 237.599\n",
      "INFO:tensorflow:loss = 0.0784058, step = 9401 (0.426 sec)\n",
      "INFO:tensorflow:global_step/sec: 213.791\n",
      "INFO:tensorflow:loss = 0.587746, step = 9501 (0.465 sec)\n",
      "INFO:tensorflow:global_step/sec: 227.879\n",
      "INFO:tensorflow:loss = 0.478847, step = 9601 (0.439 sec)\n",
      "INFO:tensorflow:global_step/sec: 208.009\n",
      "INFO:tensorflow:loss = 0.221192, step = 9701 (0.480 sec)\n",
      "INFO:tensorflow:global_step/sec: 251.928\n",
      "INFO:tensorflow:loss = 0.0681239, step = 9801 (0.398 sec)\n",
      "INFO:tensorflow:global_step/sec: 212.881\n",
      "INFO:tensorflow:loss = 0.545716, step = 9901 (0.469 sec)\n",
      "INFO:tensorflow:global_step/sec: 232.639\n",
      "INFO:tensorflow:loss = 0.83115, step = 10001 (0.430 sec)\n",
      "INFO:tensorflow:global_step/sec: 257.756\n",
      "INFO:tensorflow:loss = 0.062369, step = 10101 (0.389 sec)\n",
      "INFO:tensorflow:global_step/sec: 235.923\n",
      "INFO:tensorflow:loss = 0.711082, step = 10201 (0.423 sec)\n",
      "INFO:tensorflow:global_step/sec: 251.297\n",
      "INFO:tensorflow:loss = 0.174649, step = 10301 (0.398 sec)\n",
      "INFO:tensorflow:global_step/sec: 271.726\n",
      "INFO:tensorflow:loss = 1.32486, step = 10401 (0.368 sec)\n",
      "INFO:tensorflow:global_step/sec: 241.608\n",
      "INFO:tensorflow:loss = 0.266912, step = 10501 (0.415 sec)\n",
      "INFO:tensorflow:global_step/sec: 243.96\n",
      "INFO:tensorflow:loss = 0.848574, step = 10601 (0.410 sec)\n",
      "INFO:tensorflow:global_step/sec: 243.959\n",
      "INFO:tensorflow:loss = 0.221491, step = 10701 (0.409 sec)\n",
      "INFO:tensorflow:global_step/sec: 275.46\n",
      "INFO:tensorflow:loss = 0.0748276, step = 10801 (0.363 sec)\n",
      "INFO:tensorflow:global_step/sec: 228.921\n",
      "INFO:tensorflow:loss = 1.54369, step = 10901 (0.437 sec)\n",
      "INFO:tensorflow:global_step/sec: 269.536\n",
      "INFO:tensorflow:loss = 0.133156, step = 11001 (0.371 sec)\n",
      "INFO:tensorflow:global_step/sec: 280.076\n",
      "INFO:tensorflow:loss = 0.0655284, step = 11101 (0.357 sec)\n",
      "INFO:tensorflow:global_step/sec: 257.095\n",
      "INFO:tensorflow:loss = 0.194556, step = 11201 (0.390 sec)\n",
      "INFO:tensorflow:global_step/sec: 269.536\n",
      "INFO:tensorflow:loss = 0.151815, step = 11301 (0.370 sec)\n",
      "INFO:tensorflow:global_step/sec: 251.296\n",
      "INFO:tensorflow:loss = 0.311424, step = 11401 (0.398 sec)\n",
      "INFO:tensorflow:global_step/sec: 264.557\n",
      "INFO:tensorflow:loss = 0.0404196, step = 11501 (0.378 sec)\n",
      "INFO:tensorflow:global_step/sec: 246.964\n",
      "INFO:tensorflow:loss = 0.249129, step = 11601 (0.405 sec)\n",
      "INFO:tensorflow:global_step/sec: 259.088\n",
      "INFO:tensorflow:loss = 0.151379, step = 11701 (0.386 sec)\n",
      "INFO:tensorflow:global_step/sec: 191.716\n",
      "INFO:tensorflow:loss = 0.09791, step = 11801 (0.522 sec)\n",
      "INFO:tensorflow:global_step/sec: 260.428\n",
      "INFO:tensorflow:loss = 0.210268, step = 11901 (0.384 sec)\n",
      "INFO:tensorflow:global_step/sec: 215.628\n",
      "INFO:tensorflow:loss = 0.508873, step = 12001 (0.465 sec)\n",
      "INFO:tensorflow:global_step/sec: 154.257\n",
      "INFO:tensorflow:loss = 0.566858, step = 12101 (0.650 sec)\n",
      "INFO:tensorflow:global_step/sec: 167.671\n",
      "INFO:tensorflow:loss = 0.217614, step = 12201 (0.595 sec)\n",
      "INFO:tensorflow:global_step/sec: 191.162\n",
      "INFO:tensorflow:loss = 0.142104, step = 12301 (0.522 sec)\n",
      "INFO:tensorflow:global_step/sec: 209.326\n",
      "INFO:tensorflow:loss = 0.123427, step = 12401 (0.479 sec)\n",
      "INFO:tensorflow:global_step/sec: 205.887\n",
      "INFO:tensorflow:loss = 0.193473, step = 12501 (0.485 sec)\n",
      "INFO:tensorflow:global_step/sec: 174.682\n",
      "INFO:tensorflow:loss = 0.325382, step = 12601 (0.571 sec)\n",
      "INFO:tensorflow:global_step/sec: 177.464\n",
      "INFO:tensorflow:loss = 0.136581, step = 12701 (0.575 sec)\n",
      "INFO:tensorflow:global_step/sec: 195.072\n",
      "INFO:tensorflow:loss = 0.643271, step = 12801 (0.501 sec)\n",
      "INFO:tensorflow:global_step/sec: 203.998\n",
      "INFO:tensorflow:loss = 0.743682, step = 12901 (0.492 sec)\n",
      "INFO:tensorflow:global_step/sec: 212.431\n",
      "INFO:tensorflow:loss = 1.35989, step = 13001 (0.469 sec)\n",
      "INFO:tensorflow:global_step/sec: 243.367\n",
      "INFO:tensorflow:loss = 0.0967706, step = 13101 (0.416 sec)\n",
      "INFO:tensorflow:global_step/sec: 221.341\n",
      "INFO:tensorflow:loss = 0.059687, step = 13201 (0.448 sec)\n",
      "INFO:tensorflow:global_step/sec: 238.731\n",
      "INFO:tensorflow:loss = 0.103316, step = 13301 (0.419 sec)\n",
      "INFO:tensorflow:global_step/sec: 230.5\n",
      "INFO:tensorflow:loss = 0.626543, step = 13401 (0.434 sec)\n",
      "INFO:tensorflow:global_step/sec: 240.449\n",
      "INFO:tensorflow:loss = 0.14613, step = 13501 (0.416 sec)\n",
      "INFO:tensorflow:global_step/sec: 229.971\n",
      "INFO:tensorflow:loss = 0.151397, step = 13601 (0.435 sec)\n",
      "INFO:tensorflow:global_step/sec: 203.382\n",
      "INFO:tensorflow:loss = 0.195684, step = 13701 (0.494 sec)\n",
      "INFO:tensorflow:global_step/sec: 228.654\n",
      "INFO:tensorflow:loss = 0.0306976, step = 13801 (0.435 sec)\n",
      "INFO:tensorflow:global_step/sec: 219.403\n",
      "INFO:tensorflow:loss = 0.148085, step = 13901 (0.456 sec)\n",
      "INFO:tensorflow:global_step/sec: 192.263\n",
      "INFO:tensorflow:loss = 0.250452, step = 14001 (0.521 sec)\n",
      "INFO:tensorflow:global_step/sec: 179.049\n",
      "INFO:tensorflow:loss = 0.280162, step = 14101 (0.558 sec)\n",
      "INFO:tensorflow:global_step/sec: 208.456\n",
      "INFO:tensorflow:loss = 0.129744, step = 14201 (0.480 sec)\n",
      "INFO:tensorflow:global_step/sec: 235.924\n",
      "INFO:tensorflow:loss = 0.15308, step = 14301 (0.423 sec)\n",
      "INFO:tensorflow:global_step/sec: 239.58\n",
      "INFO:tensorflow:loss = 0.100702, step = 14401 (0.419 sec)\n",
      "INFO:tensorflow:global_step/sec: 195.073\n",
      "INFO:tensorflow:loss = 0.0124331, step = 14501 (0.512 sec)\n",
      "INFO:tensorflow:global_step/sec: 240.449\n",
      "INFO:tensorflow:loss = 0.0428521, step = 14601 (0.416 sec)\n",
      "INFO:tensorflow:global_step/sec: 192.821\n",
      "INFO:tensorflow:loss = 0.524189, step = 14701 (0.520 sec)\n",
      "INFO:tensorflow:global_step/sec: 217.5\n",
      "INFO:tensorflow:loss = 0.116909, step = 14801 (0.458 sec)\n",
      "INFO:tensorflow:global_step/sec: 249.42\n",
      "INFO:tensorflow:loss = 0.039881, step = 14901 (0.402 sec)\n",
      "INFO:tensorflow:global_step/sec: 268.815\n",
      "INFO:tensorflow:loss = 0.00355336, step = 15001 (0.371 sec)\n",
      "INFO:tensorflow:global_step/sec: 242.778\n",
      "INFO:tensorflow:loss = 0.102321, step = 15101 (0.412 sec)\n",
      "INFO:tensorflow:global_step/sec: 250.341\n",
      "INFO:tensorflow:loss = 0.0803685, step = 15201 (0.400 sec)\n",
      "INFO:tensorflow:global_step/sec: 259.085\n",
      "INFO:tensorflow:loss = 0.22527, step = 15301 (0.385 sec)\n",
      "INFO:tensorflow:global_step/sec: 260.439\n",
      "INFO:tensorflow:loss = 0.069122, step = 15401 (0.384 sec)\n",
      "INFO:tensorflow:global_step/sec: 234.27\n",
      "INFO:tensorflow:loss = 0.251828, step = 15501 (0.428 sec)\n",
      "INFO:tensorflow:global_step/sec: 256.438\n",
      "INFO:tensorflow:loss = 0.0654236, step = 15601 (0.390 sec)\n",
      "INFO:tensorflow:global_step/sec: 245.753\n",
      "INFO:tensorflow:loss = 0.177515, step = 15701 (0.406 sec)\n",
      "INFO:tensorflow:global_step/sec: 235.369\n",
      "INFO:tensorflow:loss = 0.103896, step = 15801 (0.426 sec)\n",
      "INFO:tensorflow:global_step/sec: 247.574\n",
      "INFO:tensorflow:loss = 0.0294039, step = 15901 (0.404 sec)\n",
      "INFO:tensorflow:global_step/sec: 145.737\n",
      "INFO:tensorflow:loss = 0.281399, step = 16001 (0.686 sec)\n",
      "INFO:tensorflow:global_step/sec: 220.853\n",
      "INFO:tensorflow:loss = 0.185038, step = 16101 (0.453 sec)\n",
      "INFO:tensorflow:global_step/sec: 244.555\n",
      "INFO:tensorflow:loss = 0.0700138, step = 16201 (0.410 sec)\n",
      "INFO:tensorflow:global_step/sec: 232.1\n",
      "INFO:tensorflow:loss = 0.159088, step = 16301 (0.428 sec)\n",
      "INFO:tensorflow:global_step/sec: 270.993\n",
      "INFO:tensorflow:loss = 0.0766297, step = 16401 (0.371 sec)\n",
      "INFO:tensorflow:global_step/sec: 243.353\n",
      "INFO:tensorflow:loss = 0.0871392, step = 16501 (0.410 sec)\n",
      "INFO:tensorflow:global_step/sec: 248.816\n",
      "INFO:tensorflow:loss = 0.171468, step = 16601 (0.402 sec)\n",
      "INFO:tensorflow:global_step/sec: 210.645\n",
      "INFO:tensorflow:loss = 0.0900793, step = 16701 (0.476 sec)\n",
      "INFO:tensorflow:global_step/sec: 243.96\n",
      "INFO:tensorflow:loss = 0.074766, step = 16801 (0.409 sec)\n",
      "INFO:tensorflow:global_step/sec: 233.18\n",
      "INFO:tensorflow:loss = 0.0271083, step = 16901 (0.429 sec)\n",
      "INFO:tensorflow:global_step/sec: 250.668\n",
      "INFO:tensorflow:loss = 0.199242, step = 17001 (0.399 sec)\n",
      "INFO:tensorflow:global_step/sec: 234.818\n",
      "INFO:tensorflow:loss = 0.0483727, step = 17101 (0.427 sec)\n",
      "INFO:tensorflow:global_step/sec: 239.874\n",
      "INFO:tensorflow:loss = 0.0253541, step = 17201 (0.417 sec)\n",
      "INFO:tensorflow:global_step/sec: 255.784\n",
      "INFO:tensorflow:loss = 0.0784317, step = 17301 (0.391 sec)\n",
      "INFO:tensorflow:global_step/sec: 253.841\n",
      "INFO:tensorflow:loss = 0.088522, step = 17401 (0.394 sec)\n",
      "INFO:tensorflow:global_step/sec: 234.818\n",
      "INFO:tensorflow:loss = 0.0812065, step = 17501 (0.425 sec)\n",
      "INFO:tensorflow:global_step/sec: 253.843\n",
      "INFO:tensorflow:loss = 0.0923775, step = 17601 (0.394 sec)\n",
      "INFO:tensorflow:global_step/sec: 272.464\n",
      "INFO:tensorflow:loss = 0.469805, step = 17701 (0.366 sec)\n",
      "INFO:tensorflow:global_step/sec: 253.202\n",
      "INFO:tensorflow:loss = 0.00619846, step = 17801 (0.396 sec)\n",
      "INFO:tensorflow:global_step/sec: 265.961\n",
      "INFO:tensorflow:loss = 0.160616, step = 17901 (0.377 sec)\n",
      "INFO:tensorflow:global_step/sec: 280.067\n",
      "INFO:tensorflow:loss = 0.0522533, step = 18001 (0.355 sec)\n",
      "INFO:tensorflow:global_step/sec: 280.871\n",
      "INFO:tensorflow:loss = 0.0524752, step = 18101 (0.357 sec)\n",
      "INFO:tensorflow:global_step/sec: 266.667\n",
      "INFO:tensorflow:loss = 0.0456475, step = 18201 (0.375 sec)\n",
      "INFO:tensorflow:global_step/sec: 265.257\n",
      "INFO:tensorflow:loss = 0.039758, step = 18301 (0.377 sec)\n",
      "INFO:tensorflow:global_step/sec: 282.445\n",
      "INFO:tensorflow:loss = 0.132545, step = 18401 (0.354 sec)\n",
      "INFO:tensorflow:global_step/sec: 267.379\n",
      "INFO:tensorflow:loss = 0.0152287, step = 18501 (0.374 sec)\n",
      "INFO:tensorflow:global_step/sec: 270.992\n",
      "INFO:tensorflow:loss = 0.0740103, step = 18601 (0.371 sec)\n",
      "INFO:tensorflow:global_step/sec: 270.263\n",
      "INFO:tensorflow:loss = 0.0285848, step = 18701 (0.369 sec)\n",
      "INFO:tensorflow:global_step/sec: 280.07\n",
      "INFO:tensorflow:loss = 0.0578194, step = 18801 (0.356 sec)\n",
      "INFO:tensorflow:global_step/sec: 241.607\n",
      "INFO:tensorflow:loss = 0.0139483, step = 18901 (0.414 sec)\n",
      "INFO:tensorflow:global_step/sec: 206.737\n",
      "INFO:tensorflow:loss = 0.00561887, step = 19001 (0.484 sec)\n",
      "INFO:tensorflow:global_step/sec: 229.445\n",
      "INFO:tensorflow:loss = 0.0688914, step = 19101 (0.436 sec)\n",
      "INFO:tensorflow:global_step/sec: 239.3\n",
      "INFO:tensorflow:loss = 0.00167396, step = 19201 (0.418 sec)\n",
      "INFO:tensorflow:global_step/sec: 232.102\n",
      "INFO:tensorflow:loss = 0.0832127, step = 19301 (0.431 sec)\n",
      "INFO:tensorflow:global_step/sec: 196.218\n",
      "INFO:tensorflow:loss = 0.0898744, step = 19401 (0.510 sec)\n",
      "INFO:tensorflow:global_step/sec: 258.42\n",
      "INFO:tensorflow:loss = 0.0403614, step = 19501 (0.388 sec)\n",
      "INFO:tensorflow:global_step/sec: 268.095\n",
      "INFO:tensorflow:loss = 0.0334111, step = 19601 (0.372 sec)\n",
      "INFO:tensorflow:global_step/sec: 261.114\n",
      "INFO:tensorflow:loss = 0.0426901, step = 19701 (0.384 sec)\n",
      "INFO:tensorflow:global_step/sec: 266.667\n",
      "INFO:tensorflow:loss = 0.0335467, step = 19801 (0.374 sec)\n",
      "INFO:tensorflow:global_step/sec: 220.853\n",
      "INFO:tensorflow:loss = 0.0694393, step = 19901 (0.453 sec)\n",
      "INFO:tensorflow:global_step/sec: 221.341\n",
      "INFO:tensorflow:loss = 0.0674259, step = 20001 (0.453 sec)\n",
      "INFO:tensorflow:global_step/sec: 274.704\n",
      "INFO:tensorflow:loss = 0.125539, step = 20101 (0.363 sec)\n",
      "INFO:tensorflow:global_step/sec: 256.438\n",
      "INFO:tensorflow:loss = 0.0816649, step = 20201 (0.391 sec)\n",
      "INFO:tensorflow:global_step/sec: 265.946\n",
      "INFO:tensorflow:loss = 0.0273486, step = 20301 (0.375 sec)\n",
      "INFO:tensorflow:global_step/sec: 274.703\n",
      "INFO:tensorflow:loss = 0.0470686, step = 20401 (0.365 sec)\n",
      "INFO:tensorflow:global_step/sec: 277.113\n",
      "INFO:tensorflow:loss = 0.00814838, step = 20501 (0.363 sec)\n",
      "INFO:tensorflow:global_step/sec: 241.609\n",
      "INFO:tensorflow:loss = 0.0914989, step = 20601 (0.411 sec)\n",
      "INFO:tensorflow:global_step/sec: 253.2\n",
      "INFO:tensorflow:loss = 0.0522088, step = 20701 (0.396 sec)\n",
      "INFO:tensorflow:global_step/sec: 245.445\n",
      "INFO:tensorflow:loss = 0.171828, step = 20801 (0.406 sec)\n",
      "INFO:tensorflow:global_step/sec: 235.923\n",
      "INFO:tensorflow:loss = 0.0566877, step = 20901 (0.425 sec)\n",
      "INFO:tensorflow:global_step/sec: 240.449\n",
      "INFO:tensorflow:loss = 0.0223876, step = 21001 (0.416 sec)\n",
      "INFO:tensorflow:global_step/sec: 251.928\n",
      "INFO:tensorflow:loss = 0.115881, step = 21101 (0.397 sec)\n",
      "INFO:tensorflow:global_step/sec: 225.827\n",
      "INFO:tensorflow:loss = 0.0406449, step = 21201 (0.443 sec)\n",
      "INFO:tensorflow:global_step/sec: 227.88\n",
      "INFO:tensorflow:loss = 0.2637, step = 21301 (0.440 sec)\n",
      "INFO:tensorflow:global_step/sec: 196.988\n",
      "INFO:tensorflow:loss = 0.0569835, step = 21401 (0.507 sec)\n",
      "INFO:tensorflow:global_step/sec: 148.463\n",
      "INFO:tensorflow:loss = 0.0392272, step = 21501 (0.674 sec)\n",
      "INFO:tensorflow:global_step/sec: 188.118\n",
      "INFO:tensorflow:loss = 0.0191339, step = 21601 (0.532 sec)\n",
      "INFO:tensorflow:global_step/sec: 227.881\n",
      "INFO:tensorflow:loss = 0.0470354, step = 21701 (0.439 sec)\n",
      "INFO:tensorflow:global_step/sec: 221.831\n",
      "INFO:tensorflow:loss = 0.0373738, step = 21801 (0.450 sec)\n",
      "INFO:tensorflow:global_step/sec: 184.314\n",
      "INFO:tensorflow:loss = 0.30623, step = 21901 (0.544 sec)\n",
      "INFO:tensorflow:global_step/sec: 196.218\n",
      "INFO:tensorflow:loss = 0.011527, step = 22001 (0.515 sec)\n",
      "INFO:tensorflow:global_step/sec: 194.693\n",
      "INFO:tensorflow:loss = 0.10952, step = 22101 (0.509 sec)\n",
      "INFO:tensorflow:global_step/sec: 156.424\n",
      "INFO:tensorflow:loss = 0.0818748, step = 22201 (0.639 sec)\n",
      "INFO:tensorflow:global_step/sec: 189.878\n",
      "INFO:tensorflow:loss = 0.0315308, step = 22301 (0.527 sec)\n",
      "INFO:tensorflow:global_step/sec: 193.566\n",
      "INFO:tensorflow:loss = 0.0523466, step = 22401 (0.517 sec)\n",
      "INFO:tensorflow:global_step/sec: 192.822\n",
      "INFO:tensorflow:loss = 0.0902136, step = 22501 (0.519 sec)\n",
      "INFO:tensorflow:global_step/sec: 229.444\n",
      "INFO:tensorflow:loss = 0.00231739, step = 22601 (0.435 sec)\n",
      "INFO:tensorflow:global_step/sec: 248.186\n",
      "INFO:tensorflow:loss = 0.0970836, step = 22701 (0.403 sec)\n",
      "INFO:tensorflow:global_step/sec: 235.369\n",
      "INFO:tensorflow:loss = 0.0278153, step = 22801 (0.426 sec)\n",
      "INFO:tensorflow:global_step/sec: 163.836\n",
      "INFO:tensorflow:loss = 0.0248956, step = 22901 (0.618 sec)\n",
      "INFO:tensorflow:global_step/sec: 168.234\n",
      "INFO:tensorflow:loss = 0.00539665, step = 23001 (0.586 sec)\n",
      "INFO:tensorflow:global_step/sec: 221.334\n",
      "INFO:tensorflow:loss = 0.0288902, step = 23101 (0.452 sec)\n",
      "INFO:tensorflow:global_step/sec: 240.455\n",
      "INFO:tensorflow:loss = 0.00480737, step = 23201 (0.416 sec)\n",
      "INFO:tensorflow:global_step/sec: 238.166\n",
      "INFO:tensorflow:loss = 0.0104835, step = 23301 (0.419 sec)\n",
      "INFO:tensorflow:global_step/sec: 227.099\n",
      "INFO:tensorflow:loss = 0.0125927, step = 23401 (0.441 sec)\n",
      "INFO:tensorflow:global_step/sec: 223.811\n",
      "INFO:tensorflow:loss = 0.0251724, step = 23501 (0.449 sec)\n",
      "INFO:tensorflow:global_step/sec: 190.26\n",
      "INFO:tensorflow:loss = 0.0329272, step = 23601 (0.524 sec)\n",
      "INFO:tensorflow:global_step/sec: 193.181\n",
      "INFO:tensorflow:loss = 0.00890815, step = 23701 (0.517 sec)\n",
      "INFO:tensorflow:global_step/sec: 220.367\n",
      "INFO:tensorflow:loss = 0.0658529, step = 23801 (0.457 sec)\n",
      "INFO:tensorflow:global_step/sec: 226.849\n",
      "INFO:tensorflow:loss = 0.0754147, step = 23901 (0.439 sec)\n",
      "INFO:tensorflow:global_step/sec: 141.821\n",
      "INFO:tensorflow:loss = 0.225035, step = 24001 (0.705 sec)\n",
      "INFO:tensorflow:global_step/sec: 148.095\n",
      "INFO:tensorflow:loss = 0.0426836, step = 24101 (0.674 sec)\n",
      "INFO:tensorflow:global_step/sec: 179.69\n",
      "INFO:tensorflow:loss = 0.0814255, step = 24201 (0.558 sec)\n",
      "INFO:tensorflow:global_step/sec: 189.9\n",
      "INFO:tensorflow:loss = 0.261982, step = 24301 (0.529 sec)\n",
      "INFO:tensorflow:global_step/sec: 206.737\n",
      "INFO:tensorflow:loss = 0.034986, step = 24401 (0.482 sec)\n",
      "INFO:tensorflow:global_step/sec: 154.495\n",
      "INFO:tensorflow:loss = 0.0595548, step = 24501 (0.647 sec)\n",
      "INFO:tensorflow:global_step/sec: 202.56\n",
      "INFO:tensorflow:loss = 0.0547633, step = 24601 (0.494 sec)\n",
      "INFO:tensorflow:global_step/sec: 238.165\n",
      "INFO:tensorflow:loss = 0.0145934, step = 24701 (0.420 sec)\n",
      "INFO:tensorflow:global_step/sec: 252.218\n",
      "INFO:tensorflow:loss = 0.024324, step = 24801 (0.395 sec)\n",
      "INFO:tensorflow:global_step/sec: 250.668\n",
      "INFO:tensorflow:loss = 0.0513809, step = 24901 (0.400 sec)\n",
      "INFO:tensorflow:global_step/sec: 238.731\n",
      "INFO:tensorflow:loss = 0.0517189, step = 25001 (0.418 sec)\n",
      "INFO:tensorflow:global_step/sec: 260.086\n",
      "INFO:tensorflow:loss = 0.00743679, step = 25101 (0.384 sec)\n",
      "INFO:tensorflow:global_step/sec: 274.705\n",
      "INFO:tensorflow:loss = 0.0783242, step = 25201 (0.364 sec)\n",
      "INFO:tensorflow:global_step/sec: 274.698\n",
      "INFO:tensorflow:loss = 0.0890419, step = 25301 (0.364 sec)\n",
      "INFO:tensorflow:global_step/sec: 250.668\n",
      "INFO:tensorflow:loss = 0.0129867, step = 25401 (0.399 sec)\n",
      "INFO:tensorflow:global_step/sec: 239.874\n",
      "INFO:tensorflow:loss = 0.0115724, step = 25501 (0.417 sec)\n",
      "INFO:tensorflow:global_step/sec: 268.813\n",
      "INFO:tensorflow:loss = 0.0375517, step = 25601 (0.372 sec)\n",
      "INFO:tensorflow:global_step/sec: 227.362\n",
      "INFO:tensorflow:loss = 0.033462, step = 25701 (0.446 sec)\n",
      "INFO:tensorflow:global_step/sec: 181.316\n",
      "INFO:tensorflow:loss = 0.00247449, step = 25801 (0.547 sec)\n",
      "INFO:tensorflow:global_step/sec: 243.959\n",
      "INFO:tensorflow:loss = 0.0291829, step = 25901 (0.409 sec)\n",
      "INFO:tensorflow:global_step/sec: 161.202\n",
      "INFO:tensorflow:loss = 0.0513768, step = 26001 (0.622 sec)\n",
      "INFO:tensorflow:global_step/sec: 183.804\n",
      "INFO:tensorflow:loss = 0.0621374, step = 26101 (0.542 sec)\n",
      "INFO:tensorflow:global_step/sec: 234.269\n",
      "INFO:tensorflow:loss = 0.00183104, step = 26201 (0.427 sec)\n",
      "INFO:tensorflow:global_step/sec: 272.465\n",
      "INFO:tensorflow:loss = 0.114905, step = 26301 (0.368 sec)\n",
      "INFO:tensorflow:global_step/sec: 261.795\n",
      "INFO:tensorflow:loss = 0.010685, step = 26401 (0.381 sec)\n",
      "INFO:tensorflow:global_step/sec: 190.986\n",
      "INFO:tensorflow:loss = 0.0604551, step = 26501 (0.524 sec)\n",
      "INFO:tensorflow:global_step/sec: 250.043\n",
      "INFO:tensorflow:loss = 0.0169961, step = 26601 (0.400 sec)\n",
      "INFO:tensorflow:global_step/sec: 233.179\n",
      "INFO:tensorflow:loss = 0.0345969, step = 26701 (0.430 sec)\n",
      "INFO:tensorflow:global_step/sec: 242.192\n",
      "INFO:tensorflow:loss = 0.0993243, step = 26801 (0.413 sec)\n",
      "INFO:tensorflow:global_step/sec: 183.639\n",
      "INFO:tensorflow:loss = 0.0646276, step = 26901 (0.545 sec)\n",
      "INFO:tensorflow:global_step/sec: 215.63\n",
      "INFO:tensorflow:loss = 0.0463835, step = 27001 (0.464 sec)\n",
      "INFO:tensorflow:global_step/sec: 192.988\n",
      "INFO:tensorflow:loss = 0.0476036, step = 27101 (0.519 sec)\n",
      "INFO:tensorflow:global_step/sec: 190.622\n",
      "INFO:tensorflow:loss = 0.0261331, step = 27201 (0.525 sec)\n",
      "INFO:tensorflow:global_step/sec: 183.463\n",
      "INFO:tensorflow:loss = 0.109282, step = 27301 (0.544 sec)\n",
      "INFO:tensorflow:global_step/sec: 163.166\n",
      "INFO:tensorflow:loss = 0.090296, step = 27401 (0.614 sec)\n",
      "INFO:tensorflow:global_step/sec: 160.428\n",
      "INFO:tensorflow:loss = 0.00763392, step = 27501 (0.623 sec)\n",
      "INFO:tensorflow:global_step/sec: 163.166\n",
      "INFO:tensorflow:loss = 0.00379993, step = 27601 (0.612 sec)\n",
      "INFO:tensorflow:global_step/sec: 188.472\n",
      "INFO:tensorflow:loss = 0.0163209, step = 27701 (0.581 sec)\n",
      "INFO:tensorflow:global_step/sec: 147.013\n",
      "INFO:tensorflow:loss = 0.015645, step = 27801 (0.629 sec)\n",
      "INFO:tensorflow:global_step/sec: 221.341\n",
      "INFO:tensorflow:loss = 0.0149327, step = 27901 (0.452 sec)\n",
      "INFO:tensorflow:global_step/sec: 171.397\n",
      "INFO:tensorflow:loss = 0.00306358, step = 28001 (0.584 sec)\n",
      "INFO:tensorflow:global_step/sec: 226.849\n",
      "INFO:tensorflow:loss = 0.0163796, step = 28101 (0.440 sec)\n",
      "INFO:tensorflow:global_step/sec: 174.378\n",
      "INFO:tensorflow:loss = 0.0300503, step = 28201 (0.575 sec)\n",
      "INFO:tensorflow:global_step/sec: 205.466\n",
      "INFO:tensorflow:loss = 0.122055, step = 28301 (0.484 sec)\n",
      "INFO:tensorflow:global_step/sec: 211.089\n",
      "INFO:tensorflow:loss = 0.0300068, step = 28401 (0.476 sec)\n",
      "INFO:tensorflow:global_step/sec: 159.154\n",
      "INFO:tensorflow:loss = 0.0728526, step = 28501 (0.628 sec)\n",
      "INFO:tensorflow:global_step/sec: 217.5\n",
      "INFO:tensorflow:loss = 0.0288162, step = 28601 (0.459 sec)\n",
      "INFO:tensorflow:global_step/sec: 235.922\n",
      "INFO:tensorflow:loss = 0.00423257, step = 28701 (0.423 sec)\n",
      "INFO:tensorflow:global_step/sec: 250.043\n",
      "INFO:tensorflow:loss = 0.0281585, step = 28801 (0.400 sec)\n",
      "INFO:tensorflow:global_step/sec: 255.133\n",
      "INFO:tensorflow:loss = 0.0307195, step = 28901 (0.393 sec)\n",
      "INFO:tensorflow:global_step/sec: 253.2\n",
      "INFO:tensorflow:loss = 0.0584462, step = 29001 (0.394 sec)\n",
      "INFO:tensorflow:global_step/sec: 251.928\n",
      "INFO:tensorflow:loss = 0.013388, step = 29101 (0.397 sec)\n",
      "INFO:tensorflow:global_step/sec: 253.841\n",
      "INFO:tensorflow:loss = 0.00868116, step = 29201 (0.396 sec)\n",
      "INFO:tensorflow:global_step/sec: 263.169\n",
      "INFO:tensorflow:loss = 0.00720946, step = 29301 (0.378 sec)\n",
      "INFO:tensorflow:global_step/sec: 275.459\n",
      "INFO:tensorflow:loss = 0.0675791, step = 29401 (0.363 sec)\n",
      "INFO:tensorflow:global_step/sec: 243.959\n",
      "INFO:tensorflow:loss = 0.017684, step = 29501 (0.411 sec)\n",
      "INFO:tensorflow:global_step/sec: 261.113\n",
      "INFO:tensorflow:loss = 0.016425, step = 29601 (0.382 sec)\n",
      "INFO:tensorflow:global_step/sec: 251.928\n",
      "INFO:tensorflow:loss = 0.019347, step = 29701 (0.401 sec)\n",
      "INFO:tensorflow:global_step/sec: 268.094\n",
      "INFO:tensorflow:loss = 0.0293278, step = 29801 (0.369 sec)\n",
      "INFO:tensorflow:global_step/sec: 280.457\n",
      "INFO:tensorflow:loss = 0.0393977, step = 29901 (0.357 sec)\n",
      "INFO:tensorflow:global_step/sec: 211.534\n",
      "INFO:tensorflow:loss = 0.0374376, step = 30001 (0.473 sec)\n",
      "INFO:tensorflow:global_step/sec: 250.669\n",
      "INFO:tensorflow:loss = 0.00661281, step = 30101 (0.398 sec)\n",
      "INFO:tensorflow:global_step/sec: 255.784\n",
      "INFO:tensorflow:loss = 0.0256518, step = 30201 (0.393 sec)\n",
      "INFO:tensorflow:global_step/sec: 246.357\n",
      "INFO:tensorflow:loss = 0.0206257, step = 30301 (0.406 sec)\n",
      "INFO:tensorflow:global_step/sec: 276.219\n",
      "INFO:tensorflow:loss = 0.00271096, step = 30401 (0.361 sec)\n",
      "INFO:tensorflow:global_step/sec: 246.356\n",
      "INFO:tensorflow:loss = 0.056233, step = 30501 (0.406 sec)\n",
      "INFO:tensorflow:global_step/sec: 262.126\n",
      "INFO:tensorflow:loss = 0.0187806, step = 30601 (0.381 sec)\n",
      "INFO:tensorflow:global_step/sec: 211.535\n",
      "INFO:tensorflow:loss = 0.0342579, step = 30701 (0.476 sec)\n",
      "INFO:tensorflow:global_step/sec: 204.408\n",
      "INFO:tensorflow:loss = 0.0142027, step = 30801 (0.488 sec)\n",
      "INFO:tensorflow:global_step/sec: 226.337\n",
      "INFO:tensorflow:loss = 0.015718, step = 30901 (0.441 sec)\n",
      "INFO:tensorflow:global_step/sec: 200.937\n",
      "INFO:tensorflow:loss = 0.0626393, step = 31001 (0.496 sec)\n",
      "INFO:tensorflow:global_step/sec: 233.723\n",
      "INFO:tensorflow:loss = 0.0166761, step = 31101 (0.430 sec)\n",
      "INFO:tensorflow:global_step/sec: 218.447\n",
      "INFO:tensorflow:loss = 0.0768598, step = 31201 (0.458 sec)\n",
      "INFO:tensorflow:global_step/sec: 190.985\n",
      "INFO:tensorflow:loss = 0.0771539, step = 31301 (0.525 sec)\n",
      "INFO:tensorflow:global_step/sec: 143.649\n",
      "INFO:tensorflow:loss = 0.0236891, step = 31401 (0.695 sec)\n",
      "INFO:tensorflow:global_step/sec: 198.943\n",
      "INFO:tensorflow:loss = 0.0331303, step = 31501 (0.503 sec)\n",
      "INFO:tensorflow:global_step/sec: 233.178\n",
      "INFO:tensorflow:loss = 0.0167911, step = 31601 (0.430 sec)\n",
      "INFO:tensorflow:global_step/sec: 242.192\n",
      "INFO:tensorflow:loss = 0.0273166, step = 31701 (0.411 sec)\n",
      "INFO:tensorflow:global_step/sec: 165.185\n",
      "INFO:tensorflow:loss = 0.0400681, step = 31801 (0.607 sec)\n",
      "INFO:tensorflow:global_step/sec: 191.715\n",
      "INFO:tensorflow:loss = 0.00537157, step = 31901 (0.521 sec)\n",
      "INFO:tensorflow:global_step/sec: 231.03\n",
      "INFO:tensorflow:loss = 0.0623465, step = 32001 (0.434 sec)\n",
      "INFO:tensorflow:global_step/sec: 226.338\n",
      "INFO:tensorflow:loss = 0.0434909, step = 32101 (0.441 sec)\n",
      "INFO:tensorflow:global_step/sec: 228.921\n",
      "INFO:tensorflow:loss = 0.0146726, step = 32201 (0.437 sec)\n",
      "INFO:tensorflow:global_step/sec: 221.34\n",
      "INFO:tensorflow:loss = 0.0244194, step = 32301 (0.453 sec)\n",
      "INFO:tensorflow:global_step/sec: 180.337\n",
      "INFO:tensorflow:loss = 0.0226083, step = 32401 (0.555 sec)\n",
      "INFO:tensorflow:global_step/sec: 202.151\n",
      "INFO:tensorflow:loss = 0.018518, step = 32501 (0.493 sec)\n",
      "INFO:tensorflow:global_step/sec: 253.199\n",
      "INFO:tensorflow:loss = 0.00755865, step = 32601 (0.395 sec)\n",
      "INFO:tensorflow:global_step/sec: 282.445\n",
      "INFO:tensorflow:loss = 0.000951188, step = 32701 (0.354 sec)\n",
      "INFO:tensorflow:global_step/sec: 248.802\n",
      "INFO:tensorflow:loss = 0.0229509, step = 32801 (0.404 sec)\n",
      "INFO:tensorflow:global_step/sec: 266.667\n",
      "INFO:tensorflow:loss = 0.0148985, step = 32901 (0.372 sec)\n",
      "INFO:tensorflow:global_step/sec: 186.717\n",
      "INFO:tensorflow:loss = 0.00436958, step = 33001 (0.538 sec)\n",
      "INFO:tensorflow:global_step/sec: 206.311\n",
      "INFO:tensorflow:loss = 0.013794, step = 33101 (0.484 sec)\n",
      "INFO:tensorflow:global_step/sec: 267.38\n",
      "INFO:tensorflow:loss = 0.0820059, step = 33201 (0.374 sec)\n",
      "INFO:tensorflow:global_step/sec: 261.795\n",
      "INFO:tensorflow:loss = 0.0154357, step = 33301 (0.382 sec)\n",
      "INFO:tensorflow:global_step/sec: 265.961\n",
      "INFO:tensorflow:loss = 0.0387405, step = 33401 (0.377 sec)\n",
      "INFO:tensorflow:global_step/sec: 261.795\n",
      "INFO:tensorflow:loss = 0.0542476, step = 33501 (0.381 sec)\n",
      "INFO:tensorflow:global_step/sec: 267.379\n",
      "INFO:tensorflow:loss = 0.019662, step = 33601 (0.374 sec)\n",
      "INFO:tensorflow:global_step/sec: 276.218\n",
      "INFO:tensorflow:loss = 0.0608294, step = 33701 (0.363 sec)\n",
      "INFO:tensorflow:global_step/sec: 208.891\n",
      "INFO:tensorflow:loss = 0.0168954, step = 33801 (0.479 sec)\n",
      "INFO:tensorflow:global_step/sec: 274.705\n",
      "INFO:tensorflow:loss = 0.0208289, step = 33901 (0.363 sec)\n",
      "INFO:tensorflow:global_step/sec: 241.603\n",
      "INFO:tensorflow:loss = 0.0734233, step = 34001 (0.415 sec)\n",
      "INFO:tensorflow:global_step/sec: 236.483\n",
      "INFO:tensorflow:loss = 0.0101899, step = 34101 (0.422 sec)\n",
      "INFO:tensorflow:global_step/sec: 281.65\n",
      "INFO:tensorflow:loss = 0.00154868, step = 34201 (0.355 sec)\n",
      "INFO:tensorflow:global_step/sec: 276.983\n",
      "INFO:tensorflow:loss = 0.00531274, step = 34301 (0.361 sec)\n",
      "INFO:tensorflow:global_step/sec: 253.841\n",
      "INFO:tensorflow:loss = 0.0111981, step = 34401 (0.395 sec)\n",
      "INFO:tensorflow:global_step/sec: 255.133\n",
      "INFO:tensorflow:loss = 0.0227368, step = 34501 (0.392 sec)\n",
      "INFO:tensorflow:global_step/sec: 242.778\n",
      "INFO:tensorflow:loss = 0.0035164, step = 34601 (0.412 sec)\n",
      "INFO:tensorflow:global_step/sec: 248.802\n",
      "INFO:tensorflow:loss = 0.00564981, step = 34701 (0.402 sec)\n",
      "INFO:tensorflow:global_step/sec: 252.562\n",
      "INFO:tensorflow:loss = 0.00913265, step = 34801 (0.396 sec)\n",
      "INFO:tensorflow:global_step/sec: 214.245\n",
      "INFO:tensorflow:loss = 0.024729, step = 34901 (0.469 sec)\n",
      "INFO:tensorflow:global_step/sec: 227.882\n",
      "INFO:tensorflow:loss = 0.0542029, step = 35001 (0.437 sec)\n",
      "INFO:tensorflow:global_step/sec: 245.153\n",
      "INFO:tensorflow:loss = 0.0635652, step = 35101 (0.408 sec)\n",
      "INFO:tensorflow:global_step/sec: 194.694\n",
      "INFO:tensorflow:loss = 0.0107194, step = 35201 (0.514 sec)\n",
      "INFO:tensorflow:global_step/sec: 225.827\n",
      "INFO:tensorflow:loss = 0.0295543, step = 35301 (0.443 sec)\n",
      "INFO:tensorflow:global_step/sec: 245.152\n",
      "INFO:tensorflow:loss = 0.00614039, step = 35401 (0.408 sec)\n",
      "INFO:tensorflow:global_step/sec: 256.438\n",
      "INFO:tensorflow:loss = 0.00725622, step = 35501 (0.389 sec)\n",
      "INFO:tensorflow:global_step/sec: 274.706\n",
      "INFO:tensorflow:loss = 0.0348535, step = 35601 (0.369 sec)\n",
      "INFO:tensorflow:global_step/sec: 206.311\n",
      "INFO:tensorflow:loss = 0.0132768, step = 35701 (0.481 sec)\n",
      "INFO:tensorflow:global_step/sec: 233.724\n",
      "INFO:tensorflow:loss = 0.0237173, step = 35801 (0.427 sec)\n",
      "INFO:tensorflow:global_step/sec: 259.758\n",
      "INFO:tensorflow:loss = 0.00157597, step = 35901 (0.385 sec)\n",
      "INFO:tensorflow:global_step/sec: 230.501\n",
      "INFO:tensorflow:loss = 0.0184806, step = 36001 (0.435 sec)\n",
      "INFO:tensorflow:global_step/sec: 180.013\n",
      "INFO:tensorflow:loss = 0.0484338, step = 36101 (0.556 sec)\n",
      "INFO:tensorflow:global_step/sec: 238.165\n",
      "INFO:tensorflow:loss = 0.0208738, step = 36201 (0.420 sec)\n",
      "INFO:tensorflow:global_step/sec: 207.592\n",
      "INFO:tensorflow:loss = 0.0250865, step = 36301 (0.482 sec)\n",
      "INFO:tensorflow:global_step/sec: 199.339\n",
      "INFO:tensorflow:loss = 0.0401871, step = 36401 (0.502 sec)\n",
      "INFO:tensorflow:global_step/sec: 224.815\n",
      "INFO:tensorflow:loss = 0.0101719, step = 36501 (0.445 sec)\n",
      "INFO:tensorflow:global_step/sec: 214.246\n",
      "INFO:tensorflow:loss = 0.0508017, step = 36601 (0.467 sec)\n",
      "INFO:tensorflow:global_step/sec: 195.452\n",
      "INFO:tensorflow:loss = 0.0117489, step = 36701 (0.512 sec)\n",
      "INFO:tensorflow:global_step/sec: 219.405\n",
      "INFO:tensorflow:loss = 0.0161039, step = 36801 (0.456 sec)\n",
      "INFO:tensorflow:global_step/sec: 193.941\n",
      "INFO:tensorflow:loss = 0.0107393, step = 36901 (0.517 sec)\n",
      "INFO:tensorflow:global_step/sec: 200.534\n",
      "INFO:tensorflow:loss = 0.0829769, step = 37001 (0.499 sec)\n",
      "INFO:tensorflow:global_step/sec: 216.094\n",
      "INFO:tensorflow:loss = 0.0363684, step = 37101 (0.462 sec)\n",
      "INFO:tensorflow:global_step/sec: 216.094\n",
      "INFO:tensorflow:loss = 0.0123709, step = 37201 (0.463 sec)\n",
      "INFO:tensorflow:global_step/sec: 176.526\n",
      "INFO:tensorflow:loss = 0.0428651, step = 37301 (0.566 sec)\n",
      "INFO:tensorflow:global_step/sec: 174.831\n",
      "INFO:tensorflow:loss = 0.0124499, step = 37401 (0.572 sec)\n",
      "INFO:tensorflow:global_step/sec: 198.942\n",
      "INFO:tensorflow:loss = 0.0253182, step = 37501 (0.503 sec)\n",
      "INFO:tensorflow:global_step/sec: 150.101\n",
      "INFO:tensorflow:loss = 0.0253047, step = 37601 (0.669 sec)\n",
      "INFO:tensorflow:global_step/sec: 205.887\n",
      "INFO:tensorflow:loss = 0.0124887, step = 37701 (0.483 sec)\n",
      "INFO:tensorflow:global_step/sec: 188.472\n",
      "INFO:tensorflow:loss = 0.00785748, step = 37801 (0.531 sec)\n",
      "INFO:tensorflow:global_step/sec: 202.944\n",
      "INFO:tensorflow:loss = 0.00217513, step = 37901 (0.494 sec)\n",
      "INFO:tensorflow:global_step/sec: 172.88\n",
      "INFO:tensorflow:loss = 0.012199, step = 38001 (0.577 sec)\n",
      "INFO:tensorflow:global_step/sec: 180.337\n",
      "INFO:tensorflow:loss = 0.0217637, step = 38101 (0.555 sec)\n",
      "INFO:tensorflow:global_step/sec: 176.839\n",
      "INFO:tensorflow:loss = 0.032766, step = 38201 (0.565 sec)\n",
      "INFO:tensorflow:global_step/sec: 176.99\n",
      "INFO:tensorflow:loss = 0.0159295, step = 38301 (0.565 sec)\n",
      "INFO:tensorflow:global_step/sec: 181.644\n",
      "INFO:tensorflow:loss = 0.0213481, step = 38401 (0.552 sec)\n",
      "INFO:tensorflow:global_step/sec: 222.817\n",
      "INFO:tensorflow:loss = 0.00292377, step = 38501 (0.448 sec)\n",
      "INFO:tensorflow:global_step/sec: 233.179\n",
      "INFO:tensorflow:loss = 0.00545008, step = 38601 (0.429 sec)\n",
      "INFO:tensorflow:global_step/sec: 216.094\n",
      "INFO:tensorflow:loss = 0.013062, step = 38701 (0.463 sec)\n",
      "INFO:tensorflow:global_step/sec: 223.811\n",
      "INFO:tensorflow:loss = 0.0181438, step = 38801 (0.447 sec)\n",
      "INFO:tensorflow:global_step/sec: 187.416\n",
      "INFO:tensorflow:loss = 0.0388762, step = 38901 (0.534 sec)\n",
      "INFO:tensorflow:global_step/sec: 235.369\n",
      "INFO:tensorflow:loss = 0.0440639, step = 39001 (0.425 sec)\n",
      "INFO:tensorflow:global_step/sec: 205.888\n",
      "INFO:tensorflow:loss = 0.0559288, step = 39101 (0.486 sec)\n",
      "INFO:tensorflow:global_step/sec: 202.559\n",
      "INFO:tensorflow:loss = 0.0241203, step = 39201 (0.494 sec)\n",
      "INFO:tensorflow:global_step/sec: 220.368\n",
      "INFO:tensorflow:loss = 0.00590731, step = 39301 (0.455 sec)\n",
      "INFO:tensorflow:global_step/sec: 181.644\n",
      "INFO:tensorflow:loss = 0.067609, step = 39401 (0.551 sec)\n",
      "INFO:tensorflow:global_step/sec: 199.736\n",
      "INFO:tensorflow:loss = 0.00839018, step = 39501 (0.501 sec)\n",
      "INFO:tensorflow:global_step/sec: 233.723\n",
      "INFO:tensorflow:loss = 0.0124519, step = 39601 (0.427 sec)\n",
      "INFO:tensorflow:global_step/sec: 202.97\n",
      "INFO:tensorflow:loss = 0.0430781, step = 39701 (0.494 sec)\n",
      "INFO:tensorflow:global_step/sec: 169.37\n",
      "INFO:tensorflow:loss = 0.0229088, step = 39801 (0.589 sec)\n",
      "INFO:tensorflow:global_step/sec: 208.023\n",
      "INFO:tensorflow:loss = 0.00595405, step = 39901 (0.481 sec)\n",
      "INFO:tensorflow:global_step/sec: 228.921\n",
      "INFO:tensorflow:loss = 0.0118965, step = 40001 (0.437 sec)\n",
      "INFO:tensorflow:global_step/sec: 239.302\n",
      "INFO:tensorflow:loss = 0.0181659, step = 40101 (0.418 sec)\n",
      "INFO:tensorflow:global_step/sec: 235.923\n",
      "INFO:tensorflow:loss = 0.0316466, step = 40201 (0.424 sec)\n",
      "INFO:tensorflow:global_step/sec: 195.835\n",
      "INFO:tensorflow:loss = 0.048789, step = 40301 (0.517 sec)\n",
      "INFO:tensorflow:global_step/sec: 220.368\n",
      "INFO:tensorflow:loss = 0.01217, step = 40401 (0.448 sec)\n",
      "INFO:tensorflow:global_step/sec: 198.549\n",
      "INFO:tensorflow:loss = 0.0289388, step = 40501 (0.505 sec)\n",
      "INFO:tensorflow:global_step/sec: 186.718\n",
      "INFO:tensorflow:loss = 0.0319186, step = 40601 (0.540 sec)\n",
      "INFO:tensorflow:global_step/sec: 200.937\n",
      "INFO:tensorflow:loss = 0.00454731, step = 40701 (0.493 sec)\n",
      "INFO:tensorflow:global_step/sec: 188.827\n",
      "INFO:tensorflow:loss = 0.00443607, step = 40801 (0.530 sec)\n",
      "INFO:tensorflow:global_step/sec: 223.811\n",
      "INFO:tensorflow:loss = 0.029728, step = 40901 (0.447 sec)\n",
      "INFO:tensorflow:global_step/sec: 186.695\n",
      "INFO:tensorflow:loss = 0.0361299, step = 41001 (0.537 sec)\n",
      "INFO:tensorflow:global_step/sec: 208.023\n",
      "INFO:tensorflow:loss = 0.0399698, step = 41101 (0.480 sec)\n",
      "INFO:tensorflow:global_step/sec: 166.004\n",
      "INFO:tensorflow:loss = 0.00718643, step = 41201 (0.602 sec)\n",
      "INFO:tensorflow:global_step/sec: 170.524\n",
      "INFO:tensorflow:loss = 0.0114133, step = 41301 (0.589 sec)\n",
      "INFO:tensorflow:global_step/sec: 209.327\n",
      "INFO:tensorflow:loss = 0.0319856, step = 41401 (0.475 sec)\n",
      "INFO:tensorflow:global_step/sec: 226.849\n",
      "INFO:tensorflow:loss = 0.0153589, step = 41501 (0.441 sec)\n",
      "INFO:tensorflow:global_step/sec: 176.51\n",
      "INFO:tensorflow:loss = 0.0302554, step = 41601 (0.569 sec)\n",
      "INFO:tensorflow:global_step/sec: 175.6\n",
      "INFO:tensorflow:loss = 0.00978501, step = 41701 (0.569 sec)\n",
      "INFO:tensorflow:global_step/sec: 211.534\n",
      "INFO:tensorflow:loss = 0.00858342, step = 41801 (0.471 sec)\n",
      "INFO:tensorflow:global_step/sec: 211.09\n",
      "INFO:tensorflow:loss = 0.0424686, step = 41901 (0.474 sec)\n",
      "INFO:tensorflow:global_step/sec: 193.374\n",
      "INFO:tensorflow:loss = 0.0018659, step = 42001 (0.518 sec)\n",
      "INFO:tensorflow:global_step/sec: 249.422\n",
      "INFO:tensorflow:loss = 0.00671257, step = 42101 (0.400 sec)\n",
      "INFO:tensorflow:global_step/sec: 235.924\n",
      "INFO:tensorflow:loss = 0.00575622, step = 42201 (0.424 sec)\n",
      "INFO:tensorflow:global_step/sec: 220.368\n",
      "INFO:tensorflow:loss = 0.0140312, step = 42301 (0.453 sec)\n",
      "INFO:tensorflow:global_step/sec: 207.163\n",
      "INFO:tensorflow:loss = 0.00933579, step = 42401 (0.484 sec)\n",
      "INFO:tensorflow:global_step/sec: 149.208\n",
      "INFO:tensorflow:loss = 0.0264932, step = 42501 (0.671 sec)\n",
      "INFO:tensorflow:global_step/sec: 137.631\n",
      "INFO:tensorflow:loss = 0.0186022, step = 42601 (0.730 sec)\n",
      "INFO:tensorflow:global_step/sec: 134.039\n",
      "INFO:tensorflow:loss = 0.016888, step = 42701 (0.747 sec)\n",
      "INFO:tensorflow:global_step/sec: 113.811\n",
      "INFO:tensorflow:loss = 0.018035, step = 42801 (0.878 sec)\n",
      "INFO:tensorflow:global_step/sec: 142.831\n",
      "INFO:tensorflow:loss = 0.0210675, step = 42901 (0.703 sec)\n",
      "INFO:tensorflow:global_step/sec: 117.682\n",
      "INFO:tensorflow:loss = 0.0153963, step = 43001 (0.850 sec)\n",
      "INFO:tensorflow:global_step/sec: 151.919\n",
      "INFO:tensorflow:loss = 0.0201263, step = 43101 (0.651 sec)\n",
      "INFO:tensorflow:global_step/sec: 255.788\n",
      "INFO:tensorflow:loss = 0.0111992, step = 43201 (0.391 sec)\n",
      "INFO:tensorflow:global_step/sec: 191.35\n",
      "INFO:tensorflow:loss = 0.0464133, step = 43301 (0.527 sec)\n",
      "INFO:tensorflow:global_step/sec: 151.998\n",
      "INFO:tensorflow:loss = 0.0211065, step = 43401 (0.654 sec)\n",
      "INFO:tensorflow:global_step/sec: 220.119\n",
      "INFO:tensorflow:loss = 0.00480838, step = 43501 (0.453 sec)\n",
      "INFO:tensorflow:global_step/sec: 205.045\n",
      "INFO:tensorflow:loss = 0.0204545, step = 43601 (0.488 sec)\n",
      "INFO:tensorflow:global_step/sec: 255.676\n",
      "INFO:tensorflow:loss = 0.00366634, step = 43701 (0.391 sec)\n",
      "INFO:tensorflow:global_step/sec: 252.563\n",
      "INFO:tensorflow:loss = 0.00565464, step = 43801 (0.397 sec)\n",
      "INFO:tensorflow:global_step/sec: 224.311\n",
      "INFO:tensorflow:loss = 0.0282225, step = 43901 (0.447 sec)\n",
      "INFO:tensorflow:Saving checkpoints for 44000 into C:\\Users\\q3026\\AppData\\Local\\Temp\\tmpojj97n81\\model.ckpt.\n",
      "INFO:tensorflow:Loss for final step: 0.0370823.\n"
     ]
    },
    {
     "data": {
      "text/plain": [
       "<tensorflow.python.estimator.canned.dnn.DNNClassifier at 0x1fa8c1db3c8>"
      ]
     },
     "execution_count": 23,
     "metadata": {
      "tags": []
     },
     "output_type": "execute_result"
    }
   ],
   "source": [
    "feature_cols = [tf.feature_column.numeric_column(\"X\", shape=[28 * 28])]\n",
    "dnn_clf = tf.estimator.DNNClassifier(hidden_units=[300,100], n_classes=10,\n",
    "                                     feature_columns=feature_cols)\n",
    "\n",
    "input_fn = tf.estimator.inputs.numpy_input_fn(\n",
    "    x={\"X\": X_train}, y=y_train, num_epochs=40, batch_size=50, shuffle=True)\n",
    "dnn_clf.train(input_fn=input_fn)"
   ]
  },
  {
   "cell_type": "code",
   "execution_count": null,
   "metadata": {
    "colab": {
     "autoexec": {
      "startup": false,
      "wait_interval": 0
     }
    },
    "colab_type": "code",
    "id": "r2BLgCXx8U7-",
    "outputId": "7511e786-b77f-4928-ab9c-6136f6bbf62b"
   },
   "outputs": [
    {
     "name": "stdout",
     "output_type": "stream",
     "text": [
      "INFO:tensorflow:Calling model_fn.\n",
      "INFO:tensorflow:Done calling model_fn.\n",
      "INFO:tensorflow:Starting evaluation at 2018-06-12-14:40:16\n",
      "INFO:tensorflow:Graph was finalized.\n",
      "INFO:tensorflow:Restoring parameters from C:\\Users\\q3026\\AppData\\Local\\Temp\\tmpojj97n81\\model.ckpt-44000\n",
      "INFO:tensorflow:Running local_init_op.\n",
      "INFO:tensorflow:Done running local_init_op.\n",
      "INFO:tensorflow:Finished evaluation at 2018-06-12-14:40:17\n",
      "INFO:tensorflow:Saving dict for global step 44000: accuracy = 0.9798, average_loss = 0.100138, global_step = 44000, loss = 12.6757\n"
     ]
    }
   ],
   "source": [
    "test_input_fn = tf.estimator.inputs.numpy_input_fn(\n",
    "    x={\"X\": X_test}, y=y_test, shuffle=False)\n",
    "eval_results = dnn_clf.evaluate(input_fn=test_input_fn)"
   ]
  },
  {
   "cell_type": "code",
   "execution_count": null,
   "metadata": {
    "colab": {
     "autoexec": {
      "startup": false,
      "wait_interval": 0
     }
    },
    "colab_type": "code",
    "id": "lHIEHNAW8U8C",
    "outputId": "289d92c0-14cc-4819-e141-32409ac1b76d"
   },
   "outputs": [
    {
     "data": {
      "text/plain": [
       "{'accuracy': 0.97979999,\n",
       " 'average_loss': 0.10013769,\n",
       " 'global_step': 44000,\n",
       " 'loss': 12.675657}"
      ]
     },
     "execution_count": 25,
     "metadata": {
      "tags": []
     },
     "output_type": "execute_result"
    }
   ],
   "source": [
    "eval_results"
   ]
  },
  {
   "cell_type": "code",
   "execution_count": null,
   "metadata": {
    "colab": {
     "autoexec": {
      "startup": false,
      "wait_interval": 0
     }
    },
    "colab_type": "code",
    "id": "3VxKi-rl8U8H",
    "outputId": "2170aa0f-d0dc-40df-d974-8a0cde774e36"
   },
   "outputs": [
    {
     "name": "stdout",
     "output_type": "stream",
     "text": [
      "INFO:tensorflow:Calling model_fn.\n",
      "INFO:tensorflow:Done calling model_fn.\n",
      "INFO:tensorflow:Graph was finalized.\n",
      "INFO:tensorflow:Restoring parameters from C:\\Users\\q3026\\AppData\\Local\\Temp\\tmpojj97n81\\model.ckpt-44000\n",
      "INFO:tensorflow:Running local_init_op.\n",
      "INFO:tensorflow:Done running local_init_op.\n"
     ]
    },
    {
     "data": {
      "text/plain": [
       "{'class_ids': array([7], dtype=int64),\n",
       " 'classes': array([b'7'], dtype=object),\n",
       " 'logits': array([ -9.24409771,  -3.95008636,   4.70075607,   2.85423493,\n",
       "        -12.14613438,  -9.70039654, -23.69737244,  22.82745361,\n",
       "         -3.32769036,  -2.56774426], dtype=float32),\n",
       " 'probabilities': array([  1.17896746e-14,   2.34780511e-12,   1.34176137e-08,\n",
       "          2.11709938e-09,   6.47387282e-16,   7.47022666e-15,\n",
       "          6.23052673e-21,   1.00000000e+00,   4.37487243e-12,\n",
       "          9.35417022e-12], dtype=float32)}"
      ]
     },
     "execution_count": 26,
     "metadata": {
      "tags": []
     },
     "output_type": "execute_result"
    }
   ],
   "source": [
    "y_pred_iter = dnn_clf.predict(input_fn=test_input_fn)\n",
    "y_pred = list(y_pred_iter)\n",
    "y_pred[0]"
   ]
  },
  {
   "cell_type": "markdown",
   "metadata": {
    "colab_type": "text",
    "id": "sweAK5zN8U8M"
   },
   "source": [
    "# 3. 使用plain TensorFlow训练DNN"
   ]
  },
  {
   "cell_type": "markdown",
   "metadata": {
    "colab_type": "text",
    "id": "uGuqeJVe8U8N"
   },
   "source": [
    "目标：建立一个深度神经网络实现MNIST的多分类任务\n",
    "\n",
    "结构：\n",
    "- 输入：MNIST image，28*28\n",
    "- 隐藏层1：300个神经元\n",
    "- 隐藏层2：100个神经元\n",
    "- 输出：对应10个类别的概率"
   ]
  },
  {
   "cell_type": "markdown",
   "metadata": {
    "colab_type": "text",
    "id": "e0a6BoSt8U8Q"
   },
   "source": [
    "## 3.1 构建阶段"
   ]
  },
  {
   "cell_type": "markdown",
   "metadata": {
    "colab_type": "text",
    "id": "9O1kFQVh8U8S"
   },
   "source": [
    "### 基本数据"
   ]
  },
  {
   "cell_type": "code",
   "execution_count": null,
   "metadata": {
    "colab": {
     "autoexec": {
      "startup": false,
      "wait_interval": 0
     }
    },
    "colab_type": "code",
    "id": "66sUyw_o8U8T"
   },
   "outputs": [],
   "source": [
    "import tensorflow as tf\n",
    "\n",
    "n_inputs = 28*28\n",
    "n_hidden1 = 300\n",
    "n_hidden2 = 100\n",
    "n_outputs = 10"
   ]
  },
  {
   "cell_type": "markdown",
   "metadata": {
    "colab_type": "text",
    "id": "Z_cTzn-Y8U8X"
   },
   "source": [
    "### 输入输出层"
   ]
  },
  {
   "cell_type": "markdown",
   "metadata": {
    "colab_type": "text",
    "id": "83dp417p8U8Y"
   },
   "source": [
    "由于目前还不知道一个batch有多少个实例，所以输入和输出节点的shape设为None"
   ]
  },
  {
   "cell_type": "code",
   "execution_count": null,
   "metadata": {
    "colab": {
     "autoexec": {
      "startup": false,
      "wait_interval": 0
     }
    },
    "colab_type": "code",
    "id": "RM-jV_iw8U8Y"
   },
   "outputs": [],
   "source": [
    "reset_graph()\n",
    "\n",
    "X = tf.placeholder(tf.float32, shape=(None, n_inputs), name=\"X\")\n",
    "y = tf.placeholder(tf.int32, shape=(None), name=\"y\")"
   ]
  },
  {
   "cell_type": "markdown",
   "metadata": {
    "colab_type": "text",
    "id": "QmNeS6u_8U8b"
   },
   "source": [
    "### 隐藏层"
   ]
  },
  {
   "cell_type": "code",
   "execution_count": null,
   "metadata": {
    "colab": {
     "autoexec": {
      "startup": false,
      "wait_interval": 0
     }
    },
    "colab_type": "code",
    "id": "nZ8gzFSY8U8b"
   },
   "outputs": [],
   "source": [
    "def neuron_layer(X, n_neurons, name, activation=None):\n",
    "    with tf.name_scope(name):\n",
    "        n_inputs = int(X.get_shape()[1])\n",
    "        stddev = 2 / np.sqrt(n_inputs)\n",
    "        init = tf.truncated_normal((n_inputs, n_neurons), stddev=stddev)\n",
    "        W = tf.Variable(init, name=\"weights\")\n",
    "        b = tf.Variable(tf.zeros([n_neurons]), name=\"bias\")\n",
    "        z = tf.matmul(X, W) + b\n",
    "        if activation is not None:\n",
    "            return activation(z)\n",
    "        else:\n",
    "            return z"
   ]
  },
  {
   "cell_type": "markdown",
   "metadata": {
    "colab_type": "text",
    "id": "v8JcxdqH8U8e"
   },
   "source": [
    "- `W`：权重矩阵\n",
    " - 用截断(truncated)正态分布初始化，避免出现太大的初始权重（太大的初始权重会减慢收敛速度）\n",
    " - 标准差为 $2/ \\sqrt{n_{\\text{inputs}}}$可以加快算法收敛速度(详见第11章）\n",
    "- `b`：偏差\n",
    "- `z`：加权求和的结果"
   ]
  },
  {
   "cell_type": "markdown",
   "metadata": {
    "colab_type": "text",
    "id": "3f3ynPtl8U8f"
   },
   "source": [
    "### 建立DNN"
   ]
  },
  {
   "cell_type": "code",
   "execution_count": null,
   "metadata": {
    "colab": {
     "autoexec": {
      "startup": false,
      "wait_interval": 0
     }
    },
    "colab_type": "code",
    "id": "2yU1Edbb8U8h"
   },
   "outputs": [],
   "source": [
    "with tf.name_scope(\"dnn\"):\n",
    "    hidden1 = neuron_layer(X, n_hidden1, \"hidden1\", \n",
    "                           activation=tf.nn.relu)\n",
    "    hidden2 = neuron_layer(hidden1, n_hidden2, \"hidden2\",\n",
    "                           activation=tf.nn.relu)\n",
    "    logits = neuron_layer(hidden2, n_outputs, \"outputs\")"
   ]
  },
  {
   "cell_type": "markdown",
   "metadata": {
    "colab_type": "text",
    "id": "waHowWMt8U8k"
   },
   "source": [
    "- `logits`是神经网络在通过softmax之前的输出\n",
    "\n",
    "~~实际上tensorflow提供了一系列函数用于建立神经元层，例如 `fully_connected()` 建立一个全连接层。~~（`contrib`这个模块的API即将被废弃了）\n",
    "\n",
    "现在可以用 `tf.layers.dense()` 来代替 `fully_connected()` \n",
    "\n",
    "```python\n",
    "hidden1 = tf.layers.dense(X, n_hidden1, name=\"hidden1\",\n",
    "                          activation=tf.nn.relu)\n",
    "```\n"
   ]
  },
  {
   "cell_type": "markdown",
   "metadata": {
    "colab_type": "text",
    "id": "nE3MXWQA8U8m"
   },
   "source": [
    "### cost function"
   ]
  },
  {
   "cell_type": "markdown",
   "metadata": {
    "colab_type": "text",
    "id": "zBebzuRu8U8m"
   },
   "source": [
    "像第四章的Softmax Regression一样，采用交叉熵（corss entropy）来构造代价函数。"
   ]
  },
  {
   "cell_type": "code",
   "execution_count": null,
   "metadata": {
    "colab": {
     "autoexec": {
      "startup": false,
      "wait_interval": 0
     }
    },
    "colab_type": "code",
    "id": "WlrIbwZ08U8n"
   },
   "outputs": [],
   "source": [
    "with tf.name_scope(\"loss\"):\n",
    "    xentropy = tf.nn.sparse_softmax_cross_entropy_with_logits(labels=y,\n",
    "                                                              logits=logits)\n",
    "    loss = tf.reduce_mean(xentropy, name=\"loss\")"
   ]
  },
  {
   "cell_type": "markdown",
   "metadata": {
    "colab_type": "text",
    "id": "UvO-CO8i8U8q"
   },
   "source": [
    "### 梯度下降"
   ]
  },
  {
   "cell_type": "code",
   "execution_count": null,
   "metadata": {
    "colab": {
     "autoexec": {
      "startup": false,
      "wait_interval": 0
     }
    },
    "colab_type": "code",
    "id": "Pg7xyDvE8U8q"
   },
   "outputs": [],
   "source": [
    "learning_rate = 0.01\n",
    "\n",
    "with tf.name_scope(\"train\"):\n",
    "    optimizer = tf.train.GradientDescentOptimizer(learning_rate)\n",
    "    training_op = optimizer.minimize(loss)"
   ]
  },
  {
   "cell_type": "markdown",
   "metadata": {
    "colab_type": "text",
    "id": "cGNfvYrC8U8u"
   },
   "source": [
    "### 模型评估"
   ]
  },
  {
   "cell_type": "markdown",
   "metadata": {
    "colab_type": "text",
    "id": "YWEbRCSx8U8v"
   },
   "source": [
    "用top-1误差率计算准确率来评估"
   ]
  },
  {
   "cell_type": "code",
   "execution_count": null,
   "metadata": {
    "colab": {
     "autoexec": {
      "startup": false,
      "wait_interval": 0
     }
    },
    "colab_type": "code",
    "id": "igKT3LN08U8v"
   },
   "outputs": [],
   "source": [
    "with tf.name_scope(\"eval\"):\n",
    "    correct = tf.nn.in_top_k(logits, y, 1)\n",
    "    accuracy = tf.reduce_mean(tf.cast(correct, tf.float32))"
   ]
  },
  {
   "cell_type": "markdown",
   "metadata": {
    "colab_type": "text",
    "id": "DDj8FFtm8U8y"
   },
   "source": [
    "### 初始化与模型保存"
   ]
  },
  {
   "cell_type": "code",
   "execution_count": null,
   "metadata": {
    "colab": {
     "autoexec": {
      "startup": false,
      "wait_interval": 0
     }
    },
    "colab_type": "code",
    "id": "0-aZKqGs8U8z"
   },
   "outputs": [],
   "source": [
    "init = tf.global_variables_initializer()\n",
    "s"
   ]
  },
  {
   "cell_type": "markdown",
   "metadata": {
    "colab_type": "text",
    "id": "0SjEwPvZ8U81"
   },
   "source": [
    "## 3.2 执行阶段"
   ]
  },
  {
   "cell_type": "code",
   "execution_count": null,
   "metadata": {
    "colab": {
     "autoexec": {
      "startup": false,
      "wait_interval": 0
     }
    },
    "colab_type": "code",
    "id": "Z3L5qs7f8U82"
   },
   "outputs": [],
   "source": [
    "n_epochs = 20\n",
    "batch_size = 50"
   ]
  },
  {
   "cell_type": "code",
   "execution_count": null,
   "metadata": {
    "colab": {
     "autoexec": {
      "startup": false,
      "wait_interval": 0
     }
    },
    "colab_type": "code",
    "id": "1Up1vMZI8U85"
   },
   "outputs": [],
   "source": [
    "def shuffle_batch(X, y, batch_size):\n",
    "    rnd_idx = np.random.permutation(len(X))\n",
    "    n_batches = len(X) // batch_size\n",
    "    for batch_idx in np.array_split(rnd_idx, n_batches):\n",
    "        X_batch, y_batch = X[batch_idx], y[batch_idx]\n",
    "        yield X_batch, y_batch"
   ]
  },
  {
   "cell_type": "code",
   "execution_count": null,
   "metadata": {
    "colab": {
     "autoexec": {
      "startup": false,
      "wait_interval": 0
     }
    },
    "colab_type": "code",
    "id": "WmDGm6ix8U88",
    "outputId": "ef5a3a63-f59d-4056-e221-3a2840fb931d"
   },
   "outputs": [
    {
     "name": "stdout",
     "output_type": "stream",
     "text": [
      "0 Batch accuracy: 0.88 Val accuracy: 0.9182\n",
      "1 Batch accuracy: 0.94 Val accuracy: 0.9346\n",
      "2 Batch accuracy: 0.94 Val accuracy: 0.9412\n",
      "3 Batch accuracy: 0.88 Val accuracy: 0.9474\n",
      "4 Batch accuracy: 0.98 Val accuracy: 0.9524\n",
      "5 Batch accuracy: 0.94 Val accuracy: 0.9558\n",
      "6 Batch accuracy: 1.0 Val accuracy: 0.9618\n",
      "7 Batch accuracy: 0.94 Val accuracy: 0.9642\n",
      "8 Batch accuracy: 0.96 Val accuracy: 0.9674\n",
      "9 Batch accuracy: 0.94 Val accuracy: 0.9678\n",
      "10 Batch accuracy: 0.92 Val accuracy: 0.97\n",
      "11 Batch accuracy: 1.0 Val accuracy: 0.9712\n",
      "12 Batch accuracy: 0.98 Val accuracy: 0.9692\n",
      "13 Batch accuracy: 0.98 Val accuracy: 0.9702\n",
      "14 Batch accuracy: 1.0 Val accuracy: 0.9712\n",
      "15 Batch accuracy: 0.94 Val accuracy: 0.9718\n",
      "16 Batch accuracy: 0.98 Val accuracy: 0.9728\n",
      "17 Batch accuracy: 1.0 Val accuracy: 0.973\n",
      "18 Batch accuracy: 1.0 Val accuracy: 0.9744\n",
      "19 Batch accuracy: 0.98 Val accuracy: 0.9742\n",
      "20 Batch accuracy: 1.0 Val accuracy: 0.9742\n",
      "21 Batch accuracy: 1.0 Val accuracy: 0.975\n",
      "22 Batch accuracy: 0.98 Val accuracy: 0.9756\n",
      "23 Batch accuracy: 1.0 Val accuracy: 0.977\n",
      "24 Batch accuracy: 0.98 Val accuracy: 0.977\n",
      "25 Batch accuracy: 1.0 Val accuracy: 0.9766\n",
      "26 Batch accuracy: 0.96 Val accuracy: 0.976\n",
      "27 Batch accuracy: 1.0 Val accuracy: 0.9772\n",
      "28 Batch accuracy: 0.98 Val accuracy: 0.9762\n",
      "29 Batch accuracy: 0.98 Val accuracy: 0.9772\n",
      "30 Batch accuracy: 1.0 Val accuracy: 0.9786\n",
      "31 Batch accuracy: 0.98 Val accuracy: 0.9776\n",
      "32 Batch accuracy: 0.96 Val accuracy: 0.9786\n",
      "33 Batch accuracy: 0.98 Val accuracy: 0.9776\n",
      "34 Batch accuracy: 1.0 Val accuracy: 0.979\n",
      "35 Batch accuracy: 1.0 Val accuracy: 0.9782\n",
      "36 Batch accuracy: 0.98 Val accuracy: 0.9774\n",
      "37 Batch accuracy: 1.0 Val accuracy: 0.9784\n",
      "38 Batch accuracy: 1.0 Val accuracy: 0.9784\n",
      "39 Batch accuracy: 1.0 Val accuracy: 0.9788\n"
     ]
    }
   ],
   "source": [
    "with tf.Session() as sess:\n",
    "    init.run()\n",
    "    for epoch in range(n_epochs):\n",
    "        for X_batch, y_batch in shuffle_batch(X_train, y_train, batch_size):\n",
    "            sess.run(training_op, feed_dict={X: X_batch, y: y_batch})\n",
    "        acc_batch = accuracy.eval(feed_dict={X: X_batch, y: y_batch})\n",
    "        acc_val = accuracy.eval(feed_dict={X: X_valid, y: y_valid})\n",
    "        print(epoch, \"Batch accuracy:\", acc_batch, \"Val accuracy:\", acc_val)\n",
    "\n",
    "    save_path = saver.save(sess, \"./final_model/MNSIT_DNN.ckpt\")"
   ]
  },
  {
   "cell_type": "markdown",
   "metadata": {
    "colab_type": "text",
    "id": "9-c3VXek8U9A"
   },
   "source": [
    "## 3.4 回复模型与预测"
   ]
  },
  {
   "cell_type": "code",
   "execution_count": null,
   "metadata": {
    "colab": {
     "autoexec": {
      "startup": false,
      "wait_interval": 0
     }
    },
    "colab_type": "code",
    "id": "DlifoLq48U9A",
    "outputId": "046e70d3-6f9e-4c79-c21a-64810bc97052"
   },
   "outputs": [
    {
     "name": "stdout",
     "output_type": "stream",
     "text": [
      "INFO:tensorflow:Restoring parameters from ./final_model/MNSIT_DNN.ckpt\n"
     ]
    }
   ],
   "source": [
    "with tf.Session() as sess:\n",
    "    saver.restore(sess, \"./final_model/MNSIT_DNN.ckpt\")\n",
    "    X_new_scaled = X_test[:20]\n",
    "    Z = logits.eval(feed_dict={X: X_new_scaled})\n",
    "    y_pred = np.argmax(Z, axis=1)"
   ]
  },
  {
   "cell_type": "code",
   "execution_count": null,
   "metadata": {
    "colab": {
     "autoexec": {
      "startup": false,
      "wait_interval": 0
     }
    },
    "colab_type": "code",
    "id": "Nlrfjgq-8U9F",
    "outputId": "e0ba284d-1d5c-42ee-bed5-c1466649530a"
   },
   "outputs": [
    {
     "name": "stdout",
     "output_type": "stream",
     "text": [
      "Predicted classes: [7 2 1 0 4 1 4 9 6 9 0 6 9 0 1 5 9 7 3 4]\n",
      "Actual classes:    [7 2 1 0 4 1 4 9 5 9 0 6 9 0 1 5 9 7 3 4]\n"
     ]
    }
   ],
   "source": [
    "print(\"Predicted classes:\", y_pred)\n",
    "print(\"Actual classes:   \", y_test[:20])"
   ]
  },
  {
   "cell_type": "markdown",
   "metadata": {
    "colab_type": "text",
    "id": "Xvvaxz--8U9I"
   },
   "source": [
    "----"
   ]
  },
  {
   "cell_type": "markdown",
   "metadata": {
    "colab_type": "text",
    "id": "ANy8VB_m8U9J"
   },
   "source": [
    "# 习题"
   ]
  },
  {
   "cell_type": "markdown",
   "metadata": {
    "colab_type": "text",
    "id": "5MRab9R78U9J"
   },
   "source": [
    "**习题1** 画出A异或B的神经网络示意图。"
   ]
  },
  {
   "cell_type": "markdown",
   "metadata": {
    "colab_type": "text",
    "id": "TZZHIATU8U9K"
   },
   "source": [
    "> ![xor](./data/ch10/xor.png)"
   ]
  },
  {
   "cell_type": "markdown",
   "metadata": {
    "colab_type": "text",
    "id": "eRWMfphT8U9L"
   },
   "source": [
    "**习题2** 为什么一般来说Logisitic回归模型要比单层感知机好？如何改变感知机使其和Logistic回归相同？"
   ]
  },
  {
   "cell_type": "markdown",
   "metadata": {
    "colab_type": "text",
    "id": "CFNer8S38U9M"
   },
   "source": [
    "> 感知机不能处理非线性可分的数据集。感知机不能对每个每个类别分别做出预测。\n",
    ">\n",
    "> 改变：\n",
    "> 1. 激活函数：使用logistic函数（或softmax函数如果有多个神经元）\n",
    "> 2. 优化算法：使用随机梯度下降算法（或其他如交叉熵）"
   ]
  },
  {
   "cell_type": "markdown",
   "metadata": {
    "colab_type": "text",
    "id": "v61NOgFq8U9M"
   },
   "source": [
    "**习题3** 为什么在训练第一个MLP的时候，logistic激活函数（sigmoid）是很关键的一个成分？"
   ]
  },
  {
   "cell_type": "markdown",
   "metadata": {
    "colab_type": "text",
    "id": "xcBvxICi8U9N"
   },
   "source": [
    "> 为了使用梯度下降算法，激活函数的一阶导函数的性质很重要。step function除了跳跃点之外的导数都是0，梯度无法移动。而logistic函数每一点的导数都不为0.\n"
   ]
  },
  {
   "cell_type": "markdown",
   "metadata": {
    "colab_type": "text",
    "id": "wRMavtp08U9O"
   },
   "source": [
    "**习题4** 说出几个常用的激活函数并画出大致图像"
   ]
  },
  {
   "cell_type": "markdown",
   "metadata": {
    "colab_type": "text",
    "id": "stjoa-ms8U9P"
   },
   "source": [
    "> - sigmoid函数\n",
    "> - 双曲正切函数\n",
    "> - ReLU函数"
   ]
  },
  {
   "cell_type": "markdown",
   "metadata": {
    "colab_type": "text",
    "id": "hIOKylFr8U9P"
   },
   "source": [
    "**习题5** 假设现在有一个MLP，输入层有10个神经元，一个隐藏层50个神经元，输出层3个神经元，激活函数是ReLU函数，问：\n",
    "\n",
    "1. 输入矩阵 $\\mathbf X$ 的维数\n",
    "2. 隐藏层权重向量 $\\mathbf W_h$ 的维数和偏差向量 $\\mathbf b_h$ 的维数\n",
    "3. 输出层权重向量 $\\mathbf W_o$ 的维数和偏差向量 $\\mathbf b_o$ 的维数\n",
    "4. 输出矩阵 $\\mathbf Y$ 的维数\n",
    "5. 写出 $\\mathbf Y$ 的函数"
   ]
  },
  {
   "cell_type": "markdown",
   "metadata": {
    "colab_type": "text",
    "id": "Mr2J00n78U9W"
   },
   "source": [
    "> 假设batch size是m：\n",
    "> 1. $\\mathbf X$: (m, 10)\n",
    "> 2. $\\mathbf W_h$: (10, 50), $\\mathbf b_h$: (1, 50)\n",
    "> 3. $\\mathbf W_o$: (50, 3), $\\mathbf b_o$: (1, 3)\n",
    "> 4. $\\mathbf Y$: (m, 3)\n",
    "> 5. $\\mathbf Y = \\text{ReLU }[\\text{ReLU }(\\mathbf W_h \\cdot X + b_h) \\cdot W_o + b_o]$"
   ]
  },
  {
   "cell_type": "markdown",
   "metadata": {
    "colab_type": "text",
    "id": "TE-Nu1Bn8U9X"
   },
   "source": [
    "**习题6** \n",
    "\n",
    "1. 在识别垃圾邮件的神经网络中，输出层有多少个神经元？采用什么激活函数？\n",
    "2. 在识别MNIST手写字体的神经网络中，输出层有多少个神经元？采用什么激活函数？\n",
    "3. 如果使用神经网络去预测第二章的房价，输出层有多少个神经元？采用什么激活函数？"
   ]
  },
  {
   "cell_type": "markdown",
   "metadata": {
    "colab_type": "text",
    "id": "eCEMlJKf8U9Z"
   },
   "source": [
    "> 1. 输出层一个神经元就够了，比如用它的值来表示是垃圾邮件的概率，这时激活函数应该用logistic函数\n",
    "> 2. MNIST只有0-9共10个数字，所以需要十个神经元。由于是多分类任务，所以激活函数采用softmax函数，每个神经元的输出表示其属于某一类的概率\n",
    "> 3. 一个神经元，不用激活函数，其值就是预测的房价"
   ]
  },
  {
   "cell_type": "markdown",
   "metadata": {
    "colab_type": "text",
    "id": "ty_t62zC8U9Z"
   },
   "source": [
    "**习题7** 反向传播发算法的基本原理？和reverse-mode autodiff的区别？"
   ]
  },
  {
   "cell_type": "markdown",
   "metadata": {
    "colab_type": "text",
    "id": "kKCoRt-o8U9a"
   },
   "source": [
    "> pass"
   ]
  },
  {
   "cell_type": "markdown",
   "metadata": {
    "colab_type": "text",
    "id": "o-UN_5Q88U9b"
   },
   "source": [
    "**习题8** 列出MLP中的所有超参数。如果训练出来的MLP过拟合了，如何调参？"
   ]
  },
  {
   "cell_type": "markdown",
   "metadata": {
    "colab_type": "text",
    "id": "DENV_XrE8U9d"
   },
   "source": [
    "> MLP的超参数主要有：\n",
    "> - 隐藏层的个数\n",
    "> - 隐藏层中神经元的个数\n",
    "> - 激活函数\n",
    ">\n",
    "> 如果过拟合可以尝试减少隐藏层或减少神经元个数。"
   ]
  },
  {
   "cell_type": "markdown",
   "metadata": {
    "colab_type": "text",
    "id": "1zIT7SBe8U9h"
   },
   "source": [
    "**习题9** 在MNIST上训练一个较深的MLP，获得98%以上的准确率。同时加入保存和恢复checkpoints，添加summaries，画出学习曲线，用TensorBoard可视化等等。"
   ]
  },
  {
   "cell_type": "code",
   "execution_count": null,
   "metadata": {
    "colab": {
     "autoexec": {
      "startup": false,
      "wait_interval": 0
     }
    },
    "colab_type": "code",
    "id": "Z9IcAIBy8U9i"
   },
   "outputs": [],
   "source": [
    "import tensorflow as tf\n",
    "\n",
    "reset_graph()"
   ]
  },
  {
   "cell_type": "code",
   "execution_count": null,
   "metadata": {
    "colab": {
     "autoexec": {
      "startup": false,
      "wait_interval": 0
     }
    },
    "colab_type": "code",
    "id": "7joEE8Hn8U9l"
   },
   "outputs": [],
   "source": [
    "from datetime import datetime\n",
    "\n",
    "# 模型保存路径\n",
    "def log_dir(prefix=\"\"):\n",
    "    now = datetime.utcnow().strftime(\"%Y%m%d%H%M%S\")\n",
    "    root_dir = \"tf_logs\"\n",
    "    if prefix:\n",
    "        prefix += \"-\"\n",
    "    name = prefix + \"run-\" + now\n",
    "    return \"{}/{}/\".format(root_dir, name)\n",
    "\n",
    "logdir = log_dir(\"mnist_dnn\")\n",
    "checkpoint_path = \"./tmp/mnist_dnn.ckpt\"\n",
    "checkpoint_epoch_path = checkpoint_path + \".epoch\"\n",
    "final_model_path = \"./final_model/mnimnist_dnn.ckpt\"\n",
    "\n",
    "# shuffle batch\n",
    "def shuffle_batch(X, y, batch_size):\n",
    "    rnd_idx = np.random.permutation(len(X))\n",
    "    n_batches = len(X) // batch_size\n",
    "    for batch_idx in np.array_split(rnd_idx, n_batches):\n",
    "        X_batch, y_batch = X[batch_idx], y[batch_idx]\n",
    "        yield X_batch, y_batch"
   ]
  },
  {
   "cell_type": "markdown",
   "metadata": {
    "colab_type": "text",
    "id": "w-z9C90T8U9o"
   },
   "source": [
    "处理数据集"
   ]
  },
  {
   "cell_type": "code",
   "execution_count": null,
   "metadata": {
    "colab": {
     "autoexec": {
      "startup": false,
      "wait_interval": 0
     }
    },
    "colab_type": "code",
    "id": "Vv6aCVl68U9o"
   },
   "outputs": [],
   "source": [
    "# 处理数据集\n",
    "(X_train, y_train), (X_test, y_test) = tf.keras.datasets.mnist.load_data()\n",
    "X_train = X_train.astype(np.float32).reshape(-1, 28*28) / 255.0\n",
    "X_test = X_test.astype(np.float32).reshape(-1, 28*28) / 255.0\n",
    "y_train = y_train.astype(np.int32)\n",
    "y_test = y_test.astype(np.int32)\n",
    "X_valid, X_train = X_train[:5000], X_train[5000:]\n",
    "y_valid, y_train = y_train[:5000], y_train[5000:]"
   ]
  },
  {
   "cell_type": "markdown",
   "metadata": {
    "colab_type": "text",
    "id": "B-CkqYKV8U9p"
   },
   "source": [
    "构建阶段"
   ]
  },
  {
   "cell_type": "code",
   "execution_count": null,
   "metadata": {
    "colab": {
     "autoexec": {
      "startup": false,
      "wait_interval": 0
     }
    },
    "colab_type": "code",
    "id": "_Fj2TuXA8U9r"
   },
   "outputs": [],
   "source": [
    "# 模型参数设置\n",
    "n_inputs = 28*28\n",
    "n_hidden1 = 300\n",
    "n_hidden2 = 100\n",
    "n_outputs = 10\n",
    "learning_rate = 0.01\n",
    "\n",
    "# 输入输出\n",
    "X = tf.placeholder(tf.float32, shape=(None, n_inputs), name=\"X\")\n",
    "y = tf.placeholder(tf.int32, shape=(None), name=\"y\")\n",
    "\n",
    "# 神经网络\n",
    "with tf.name_scope(\"dnn\"):\n",
    "    hidden1 = tf.layers.dense(X, n_hidden1, name=\"hidden1\",\n",
    "                              activation = tf.nn.relu)\n",
    "    hidden2 = tf.layers.dense(hidden1, n_hidden2, name=\"hidde2\",\n",
    "                             activation = tf.nn.relu)\n",
    "    logits = tf.layers.dense(hidden2, n_outputs, name=\"outputs\")\n",
    "    \n",
    "# 损失函数\n",
    "with tf.name_scope(\"loss\"):\n",
    "    xentropy = tf.nn.sparse_softmax_cross_entropy_with_logits(labels=y,\n",
    "                                                            logits=logits)\n",
    "    loss = tf.reduce_mean(xentropy, name=\"loss\")\n",
    "    loss_summary = tf.summary.scalar('log_loss', loss)\n",
    "    \n",
    "# 训练\n",
    "with tf.name_scope(\"train\"):\n",
    "    optimizer = tf.train.GradientDescentOptimizer(learning_rate)\n",
    "    training_op = optimizer.minimize(loss)\n",
    "    \n",
    "# 评估\n",
    "with tf.name_scope(\"eval\"):\n",
    "    correct = tf.nn.in_top_k(logits, y, 1)\n",
    "    accuracy = tf.reduce_mean(tf.cast(correct, tf.float32))\n",
    "    accuracy_summary = tf.summary.scalar('accuracy', accuracy)\n",
    "\n",
    "# 初始化\n",
    "init = tf.global_variables_initializer()\n",
    "saver = tf.train.Saver()\n",
    "file_writer = tf.summary.FileWriter(logdir, tf.get_default_graph())"
   ]
  },
  {
   "cell_type": "markdown",
   "metadata": {
    "colab_type": "text",
    "id": "PFoCoOOh8U9t"
   },
   "source": [
    "执行阶段"
   ]
  },
  {
   "cell_type": "code",
   "execution_count": null,
   "metadata": {
    "colab": {
     "autoexec": {
      "startup": false,
      "wait_interval": 0
     }
    },
    "colab_type": "code",
    "id": "NTVYISNR8U9u",
    "outputId": "650a6506-bc1d-4e55-d30b-2d5405aa9d22"
   },
   "outputs": [
    {
     "name": "stdout",
     "output_type": "stream",
     "text": [
      "Trainning was interrupted. Continuing at epoch 1\n",
      "INFO:tensorflow:Restoring parameters from /tmp/mnist_dnn.ckpt\n",
      "Epoch:  5 \tValidation accuracy: 95.060% \tLoss: 0.17863\n",
      "Epoch:  10 \tValidation accuracy: 96.580% \tLoss: 0.12965\n",
      "Epoch:  15 \tValidation accuracy: 97.240% \tLoss: 0.10552\n",
      "Epoch:  20 \tValidation accuracy: 97.520% \tLoss: 0.09247\n",
      "Epoch:  25 \tValidation accuracy: 97.640% \tLoss: 0.08137\n",
      "Epoch:  30 \tValidation accuracy: 97.920% \tLoss: 0.07585\n",
      "Epoch:  35 \tValidation accuracy: 97.960% \tLoss: 0.07200\n",
      "Epoch:  40 \tValidation accuracy: 98.000% \tLoss: 0.07021\n",
      "Epoch:  45 \tValidation accuracy: 98.000% \tLoss: 0.06836\n",
      "Epoch:  50 \tValidation accuracy: 98.080% \tLoss: 0.06705\n",
      "Epoch:  55 \tValidation accuracy: 98.240% \tLoss: 0.06662\n",
      "Epoch:  60 \tValidation accuracy: 98.080% \tLoss: 0.06853\n",
      "Epoch:  65 \tValidation accuracy: 98.100% \tLoss: 0.06985\n",
      "Epoch:  70 \tValidation accuracy: 98.140% \tLoss: 0.06959\n",
      "Epoch:  75 \tValidation accuracy: 98.220% \tLoss: 0.06829\n",
      "Epoch:  80 \tValidation accuracy: 98.220% \tLoss: 0.06812\n",
      "Epoch:  85 \tValidation accuracy: 98.260% \tLoss: 0.06935\n",
      "Epoch:  90 \tValidation accuracy: 98.200% \tLoss: 0.07033\n",
      "Epoch:  95 \tValidation accuracy: 98.160% \tLoss: 0.07083\n",
      "Epoch:  100 \tValidation accuracy: 98.160% \tLoss: 0.07174\n",
      "Epoch:  105 \tValidation accuracy: 98.180% \tLoss: 0.07110\n",
      "Epoch:  110 \tValidation accuracy: 98.200% \tLoss: 0.07247\n",
      "Early stopping\n"
     ]
    }
   ],
   "source": [
    "# 执行参数设置\n",
    "n_epochs = 10001\n",
    "batch_size = 50\n",
    "n_batches = len(X_train) // batch_size\n",
    "best_loss = np.infty\n",
    "epochs_without_progress = 0\n",
    "max_epochs_without_progress = 50\n",
    "\n",
    "with tf.Session() as sess:\n",
    "    # 如果checkpoint文件存在，则从checkpoint恢复模型\n",
    "    if os.path.isfile(checkpoint_epoch_path):\n",
    "        with open(checkpoint_epoch_path, \"rb\") as f:\n",
    "            start_epoch = int(f.read())\n",
    "        print(\"Trainning was interrupted. Continuing at epoch\", start_epoch)\n",
    "        saver.restore(sess, checkpoint_path)\n",
    "    else:\n",
    "        start_epoch = 0\n",
    "        sess.run(init)\n",
    "    \n",
    "    for epoch in range(start_epoch, n_epochs):\n",
    "        for X_batch, y_batch in shuffle_batch(X_train, y_train, batch_size):\n",
    "            sess.run(training_op, feed_dict={X:X_batch, y:y_batch})\n",
    "        accuracy_val, loss_val, accuracy_summary_str, loss_summary_str = sess.run([accuracy, loss, accuracy_summary, loss_summary], feed_dict={X:X_valid, y:y_valid})\n",
    "        file_writer.add_summary(accuracy_summary_str, epoch)\n",
    "        file_writer.add_summary(loss_summary_str, epoch)\n",
    "        if epoch % 5 == 0:\n",
    "            print(\"Epoch: \", epoch,\n",
    "                  \"\\tValidation accuracy: {:.3f}%\".format(accuracy_val*100),\n",
    "                  \"\\tLoss: {:.5f}\".format(loss_val))\n",
    "            saver.save(sess, checkpoint_path)\n",
    "            with open(checkpoint_epoch_path, \"wb\") as f:\n",
    "                f.write(b\"%d\" % (epoch + 1))\n",
    "            if loss_val < best_loss:\n",
    "                saver.save(sess, final_model_path)\n",
    "                best_loss = loss_val\n",
    "            else:\n",
    "                # 如果loss一直没有减小就提前停止训练\n",
    "                epochs_without_progress += 5\n",
    "                if epochs_without_progress > max_epochs_without_progress:\n",
    "                    print(\"Early stopping\")\n",
    "                    break"
   ]
  },
  {
   "cell_type": "markdown",
   "metadata": {
    "colab_type": "text",
    "id": "RTT3KtrV8U9x"
   },
   "source": [
    "在测试集上验证"
   ]
  },
  {
   "cell_type": "code",
   "execution_count": null,
   "metadata": {
    "colab": {
     "autoexec": {
      "startup": false,
      "wait_interval": 0
     }
    },
    "colab_type": "code",
    "id": "0gJY0lmc8U9x",
    "outputId": "ee735a39-401d-487c-8894-f99a58029035"
   },
   "outputs": [
    {
     "name": "stdout",
     "output_type": "stream",
     "text": [
      "INFO:tensorflow:Restoring parameters from ./final_model/mnist_dnn.ckpt\n"
     ]
    },
    {
     "data": {
      "text/plain": [
       "0.97970003"
      ]
     },
     "execution_count": 18,
     "metadata": {
      "tags": []
     },
     "output_type": "execute_result"
    }
   ],
   "source": [
    "os.remove(checkpoint_epoch_path)\n",
    "\n",
    "with tf.Session() as sess:\n",
    "    saver.restore(sess, final_model_path)\n",
    "    accuracy_val = accuracy.eval(feed_dict={X:X_test, y:y_test})\n",
    "    \n",
    "accuracy_val"
   ]
  },
  {
   "cell_type": "markdown",
   "metadata": {
    "colab_type": "text",
    "id": "27lpL2lc8U96"
   },
   "source": [
    "可视化"
   ]
  },
  {
   "cell_type": "code",
   "execution_count": null,
   "metadata": {
    "colab": {
     "autoexec": {
      "startup": false,
      "wait_interval": 0
     }
    },
    "colab_type": "code",
    "id": "d29IqWvv8U99"
   },
   "outputs": [],
   "source": [
    "import pandas as pd\n",
    "# csv 文件从tensorboard下载保存\n",
    "accuracy_curve = pd.read_csv(\"./data/ch10/mnist_dnn_accuracy.csv\")\n",
    "loss_curve = pd.read_csv(\"./data/ch10/mnist_dnn_loss.csv\")"
   ]
  },
  {
   "cell_type": "code",
   "execution_count": null,
   "metadata": {
    "colab": {
     "autoexec": {
      "startup": false,
      "wait_interval": 0
     }
    },
    "colab_type": "code",
    "id": "Ud0wJzeD8U-A",
    "outputId": "4732a6bf-8a4f-4b30-dea4-814de667c968"
   },
   "outputs": [
    {
     "data": {
      "text/plain": [
       "<matplotlib.text.Text at 0x21c46a85f28>"
      ]
     },
     "execution_count": 60,
     "metadata": {
      "tags": []
     },
     "output_type": "execute_result"
    },
    {
     "data": {
      "image/png": "[encoded data removed]",
      "text/plain": [
       "<matplotlib.figure.Figure at 0x21c45e58358>"
      ]
     },
     "metadata": {
      "tags": []
     },
     "output_type": "display_data"
    }
   ],
   "source": [
    "plt.figure(figsize=(11,4))\n",
    "\n",
    "plt.subplot(121)\n",
    "plt.plot(accuracy_curve.Step, accuracy_curve.Value)\n",
    "plt.grid(True)\n",
    "plt.title(\"Accuracy\")\n",
    "\n",
    "plt.subplot(122)\n",
    "plt.plot(loss_curve.Step, loss_curve.Value)\n",
    "plt.grid(True)\n",
    "plt.title(\"Loss\")"
   ]
  },
  {
   "cell_type": "markdown",
   "metadata": {
    "colab_type": "text",
    "id": "oQM7R6pW8U-D"
   },
   "source": [
    "![mnist_dnn](./data/ch10/mnist_dnn.png)"
   ]
  },
  {
   "cell_type": "markdown",
   "metadata": {
    "colab_type": "text",
    "id": "5UrQCCAl8U-D"
   },
   "source": [
    "# EOF"
   ]
  }
 ],
 "metadata": {
  "colab": {
   "default_view": {},
   "name": "10_ANNs_intro.ipynb",
   "provenance": [],
   "version": "0.3.2",
   "views": {}
  },
  "kernelspec": {
   "display_name": "Python 3",
   "language": "python",
   "name": "python3"
  },
  "language_info": {
   "codemirror_mode": {
    "name": "ipython",
    "version": 3
   },
   "file_extension": ".py",
   "mimetype": "text/x-python",
   "name": "python",
   "nbconvert_exporter": "python",
   "pygments_lexer": "ipython3",
   "version": "3.6.2"
  }
 },
 "nbformat": 4,
 "nbformat_minor": 2
}
