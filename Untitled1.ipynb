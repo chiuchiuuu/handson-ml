{
 "cells": [
  {
   "cell_type": "code",
   "execution_count": 1,
   "metadata": {},
   "outputs": [],
   "source": [
    "import tensorflow as tf"
   ]
  },
  {
   "cell_type": "code",
   "execution_count": null,
   "metadata": {},
   "outputs": [],
   "source": []
  },
  {
   "cell_type": "code",
   "execution_count": 5,
   "metadata": {},
   "outputs": [],
   "source": [
    "import base64"
   ]
  },
  {
   "cell_type": "code",
   "execution_count": 6,
   "metadata": {},
   "outputs": [],
   "source": [
    "str = \"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\""
   ]
  },
  {
   "cell_type": "code",
   "execution_count": null,
   "metadata": {},
   "outputs": [],
   "source": [
    "_KEY_LEN = 2\n",
    "\n",
    "bitmap = PIL.Image.open(image_path).tobytes()\n",
    "\n",
    "encrypted = []\n",
    "\n",
    "for index, byte in enumerate(bitmap):\n",
    "\n",
    "    encrypted.append(byte ^ key[index % _KEY_LEN])\n",
    "\n",
    "return base64.standard_b64encode(bytes(encrypted))"
   ]
  },
  {
   "cell_type": "code",
   "execution_count": 8,
   "metadata": {},
   "outputs": [],
   "source": [
    "decrypted = base64.standard_b64decode(str)"
   ]
  },
  {
   "cell_type": "code",
   "execution_count": 11,
   "metadata": {},
   "outputs": [
    {
     "data": {
      "text/plain": [
       "bytes"
      ]
     },
     "execution_count": 11,
     "metadata": {},
     "output_type": "execute_result"
    }
   ],
   "source": [
    "type(decrypted)"
   ]
  },
  {
   "cell_type": "code",
   "execution_count": 63,
   "metadata": {},
   "outputs": [],
   "source": [
    "from PIL import Image\n",
    "\n",
    "_KEY_LEN = 2\n",
    "img = []\n",
    "\n",
    "key = (255, 255)\n",
    "\n",
    "for index, byte in enumerate(decrypted):\n",
    "    img.append(key[index % _KEY_LEN] ^ byte)\n",
    "\n",
    "image = Image.frombytes('L', (64,64), bytes(img))\n",
    "image.show()"
   ]
  },
  {
   "cell_type": "code",
   "execution_count": 64,
   "metadata": {},
   "outputs": [
    {
     "data": {
      "image/png": "[encoded data removed]",
      "text/plain": [
       "<PIL.Image.Image image mode=L size=64x64 at 0x7FDA0A017198>"
      ]
     },
     "execution_count": 64,
     "metadata": {},
     "output_type": "execute_result"
    }
   ],
   "source": [
    "image"
   ]
  },
  {
   "cell_type": "code",
   "execution_count": 65,
   "metadata": {},
   "outputs": [],
   "source": [
    "from PIL import Image\n",
    "\n",
    "_KEY_LEN = 2\n",
    "image = []\n",
    "\n",
    "for i in range(256):\n",
    "    for j in range(256):\n",
    "        img_data = []\n",
    "        key = (i, j)\n",
    "        decrypted = base64.standard_b64decode(str)\n",
    "        for index, byte in enumerate(decrypted):\n",
    "            img_data.append(key[index % _KEY_LEN] ^ byte)\n",
    "        image.append(Image.frombytes('L', (64,64), bytes(img_data)))"
   ]
  },
  {
   "cell_type": "code",
   "execution_count": 76,
   "metadata": {},
   "outputs": [
    {
     "data": {
      "image/png": "[encoded data removed]",
      "text/plain": [
       "<PIL.Image.Image image mode=L size=500x500 at 0x7FDA0A017470>"
      ]
     },
     "execution_count": 76,
     "metadata": {},
     "output_type": "execute_result"
    }
   ],
   "source": [
    "image[-1].resize((500,500))"
   ]
  },
  {
   "cell_type": "code",
   "execution_count": 79,
   "metadata": {},
   "outputs": [],
   "source": [
    "#coding:utf-8  \n",
    "import sys,os  \n",
    "from PIL import Image,ImageDraw  \n",
    "  \n",
    "#二值判断,如果确认是噪声,用改点的上面一个点的灰度进行替换  \n",
    "#该函数也可以改成RGB判断的,具体看需求如何  \n",
    "def getPixel(image,x,y,G,N):  \n",
    "    L = image.getpixel((x,y))  \n",
    "    if L > G:  \n",
    "        L = True  \n",
    "    else:  \n",
    "        L = False  \n",
    "  \n",
    "    nearDots = 0  \n",
    "    if L == (image.getpixel((x - 1,y - 1)) > G):  \n",
    "        nearDots += 1  \n",
    "    if L == (image.getpixel((x - 1,y)) > G):  \n",
    "        nearDots += 1  \n",
    "    if L == (image.getpixel((x - 1,y + 1)) > G):  \n",
    "        nearDots += 1  \n",
    "    if L == (image.getpixel((x,y - 1)) > G):  \n",
    "        nearDots += 1  \n",
    "    if L == (image.getpixel((x,y + 1)) > G):  \n",
    "        nearDots += 1  \n",
    "    if L == (image.getpixel((x + 1,y - 1)) > G):  \n",
    "        nearDots += 1  \n",
    "    if L == (image.getpixel((x + 1,y)) > G):  \n",
    "        nearDots += 1  \n",
    "    if L == (image.getpixel((x + 1,y + 1)) > G):  \n",
    "        nearDots += 1  \n",
    "  \n",
    "    if nearDots < N:  \n",
    "        return image.getpixel((x,y-1))  \n",
    "    else:  \n",
    "        return None  \n",
    "  \n",
    "# 降噪   \n",
    "# 根据一个点A的RGB值，与周围的8个点的RBG值比较，设定一个值N（0 <N <8），当A的RGB值与周围8个点的RGB相等数小于N时，此点为噪点   \n",
    "# G: Integer 图像二值化阀值   \n",
    "# N: Integer 降噪率 0 <N <8   \n",
    "# Z: Integer 降噪次数   \n",
    "# 输出   \n",
    "#  0：降噪成功   \n",
    "#  1：降噪失败   \n",
    "def clearNoise(image,G,N,Z):  \n",
    "    draw = ImageDraw.Draw(image)  \n",
    "  \n",
    "    for i in range(0,Z):  \n",
    "        for x in range(1,image.size[0] - 1):  \n",
    "            for y in range(1,image.size[1] - 1):  \n",
    "                color = getPixel(image,x,y,G,N)  \n",
    "                if color != None:  \n",
    "                    draw.point((x,y),color)  \n",
    "  \n",
    "#测试代码  \n",
    "def main():  \n",
    "    #打开图片  \n",
    "    image = Image.open(\"./1.jpg\")  \n",
    "  \n",
    "    #将图片转换成灰度图片  \n",
    "    image = image.convert(\"L\")  \n",
    "  \n",
    "    #去噪,G = 50,N = 4,Z = 4  \n",
    "    clearNoise(image,50,4,4)  \n",
    "  \n",
    "    #保存图片  \n",
    "    image.save(\"./result.jpg\")  \n",
    "  \n",
    "  \n",
    "if __name__ == '__main__':  \n",
    "    main()  "
   ]
  },
  {
   "cell_type": "code",
   "execution_count": 93,
   "metadata": {},
   "outputs": [
    {
     "data": {
      "text/plain": [
       "[0,\n",
       " 1,\n",
       " 2,\n",
       " 2,\n",
       " 3,\n",
       " 3,\n",
       " 4,\n",
       " 4,\n",
       " 4,\n",
       " 4,\n",
       " 5,\n",
       " 5,\n",
       " 6,\n",
       " 6,\n",
       " 6,\n",
       " 6,\n",
       " 7,\n",
       " 7,\n",
       " 8,\n",
       " 8,\n",
       " 8,\n",
       " 8,\n",
       " 9,\n",
       " 9,\n",
       " 9,\n",
       " 9,\n",
       " 9,\n",
       " 9,\n",
       " 10,\n",
       " 10,\n",
       " 11,\n",
       " 11,\n",
       " 11,\n",
       " 11,\n",
       " 11,\n",
       " 11,\n",
       " 12,\n",
       " 12,\n",
       " 12,\n",
       " 12,\n",
       " 13,\n",
       " 13,\n",
       " 14,\n",
       " 14,\n",
       " 14,\n",
       " 14,\n",
       " 15,\n",
       " 15,\n",
       " 15,\n",
       " 15,\n",
       " 15,\n",
       " 15,\n",
       " 16,\n",
       " 16,\n",
       " 16,\n",
       " 16,\n",
       " 16,\n",
       " 16,\n",
       " 17,\n",
       " 17,\n",
       " 18,\n",
       " 18,\n",
       " 18,\n",
       " 18,\n",
       " 18,\n",
       " 18,\n",
       " 19,\n",
       " 19,\n",
       " 19,\n",
       " 19,\n",
       " 20,\n",
       " 20,\n",
       " 21,\n",
       " 21,\n",
       " 21,\n",
       " 21,\n",
       " 21,\n",
       " 21,\n",
       " 22,\n",
       " 22,\n",
       " 22,\n",
       " 22,\n",
       " 23,\n",
       " 23,\n",
       " 23,\n",
       " 23,\n",
       " 23,\n",
       " 23,\n",
       " 24,\n",
       " 24,\n",
       " 24,\n",
       " 24,\n",
       " 24,\n",
       " 24,\n",
       " 24,\n",
       " 24,\n",
       " 25,\n",
       " 25]"
      ]
     },
     "execution_count": 93,
     "metadata": {},
     "output_type": "execute_result"
    }
   ],
   "source": [
    "import math\n",
    "\n",
    " \n",
    "\n",
    "def sieve(size):\n",
    "\n",
    "    sieve = [True] * size\n",
    "\n",
    "    sieve[0] = False\n",
    "\n",
    "    sieve[1] = False\n",
    "\n",
    " \n",
    "\n",
    "    for i in range(2, int(math.sqrt(size)) + 1):\n",
    "\n",
    "        k = i * 2\n",
    "\n",
    "        while k < size:\n",
    "\n",
    "            sieve[k] = False\n",
    "\n",
    "            k += i\n",
    "\n",
    " \n",
    "\n",
    "    return sum(1 for x in sieve if x)\n",
    "\n",
    " \n",
    "\n",
    "[sieve(i) for i in range(2,100)]"
   ]
  },
  {
   "cell_type": "code",
   "execution_count": 91,
   "metadata": {},
   "outputs": [
    {
     "data": {
      "text/plain": [
       "0"
      ]
     },
     "execution_count": 91,
     "metadata": {},
     "output_type": "execute_result"
    }
   ],
   "source": [
    "sieve(2)"
   ]
  },
  {
   "cell_type": "code",
   "execution_count": 94,
   "metadata": {},
   "outputs": [
    {
     "data": {
      "text/plain": [
       "9223372036854775807"
      ]
     },
     "execution_count": 94,
     "metadata": {},
     "output_type": "execute_result"
    }
   ],
   "source": [
    "import sys\n",
    "\n",
    "sys.maxsize"
   ]
  },
  {
   "cell_type": "code",
   "execution_count": null,
   "metadata": {},
   "outputs": [],
   "source": []
  }
 ],
 "metadata": {
  "kernelspec": {
   "display_name": "Python 3",
   "language": "python",
   "name": "python3"
  },
  "language_info": {
   "codemirror_mode": {
    "name": "ipython",
    "version": 3
   },
   "file_extension": ".py",
   "mimetype": "text/x-python",
   "name": "python",
   "nbconvert_exporter": "python",
   "pygments_lexer": "ipython3",
   "version": "3.5.2"
  }
 },
 "nbformat": 4,
 "nbformat_minor": 2
}
